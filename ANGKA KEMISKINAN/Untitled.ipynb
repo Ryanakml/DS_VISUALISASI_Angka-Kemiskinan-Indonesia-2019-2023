{
 "cells": [
  {
   "cell_type": "code",
   "execution_count": 2,
   "id": "6b36cccb-b491-4fa6-bf79-54cd9655ca3b",
   "metadata": {},
   "outputs": [
    {
     "ename": "KeyError",
     "evalue": "'.numbers'",
     "output_type": "error",
     "traceback": [
      "\u001b[0;31m---------------------------------------------------------------------------\u001b[0m",
      "\u001b[0;31mKeyError\u001b[0m                                  Traceback (most recent call last)",
      "Cell \u001b[0;32mIn[2], line 7\u001b[0m\n\u001b[1;32m      4\u001b[0m file_path \u001b[38;5;241m=\u001b[39m \u001b[38;5;124m'\u001b[39m\u001b[38;5;124mgeojson indo no final.numbers\u001b[39m\u001b[38;5;124m'\u001b[39m\n\u001b[1;32m      6\u001b[0m \u001b[38;5;66;03m# Membuka file\u001b[39;00m\n\u001b[0;32m----> 7\u001b[0m doc \u001b[38;5;241m=\u001b[39m \u001b[43mezodf\u001b[49m\u001b[38;5;241;43m.\u001b[39;49m\u001b[43mopendoc\u001b[49m\u001b[43m(\u001b[49m\u001b[43mfile_path\u001b[49m\u001b[43m)\u001b[49m\n\u001b[1;32m      9\u001b[0m \u001b[38;5;66;03m# Menampilkan informasi dasar\u001b[39;00m\n\u001b[1;32m     10\u001b[0m \u001b[38;5;28mprint\u001b[39m(\u001b[38;5;124m\"\u001b[39m\u001b[38;5;124mSheets in document:\u001b[39m\u001b[38;5;124m\"\u001b[39m, \u001b[38;5;28mlen\u001b[39m(doc\u001b[38;5;241m.\u001b[39msheets))\n",
      "File \u001b[0;32m/Library/Frameworks/Python.framework/Versions/3.11/lib/python3.11/site-packages/ezodf/document.py:54\u001b[0m, in \u001b[0;36mopendoc\u001b[0;34m(filename)\u001b[0m\n\u001b[1;32m     50\u001b[0m     \u001b[38;5;28;01mexcept\u001b[39;00m etree\u001b[38;5;241m.\u001b[39mParseError:\n\u001b[1;32m     51\u001b[0m         \u001b[38;5;28;01mraise\u001b[39;00m \u001b[38;5;167;01mIOError\u001b[39;00m(\u001b[38;5;124m\"\u001b[39m\u001b[38;5;124mFile \u001b[39m\u001b[38;5;124m'\u001b[39m\u001b[38;5;132;01m%s\u001b[39;00m\u001b[38;5;124m'\u001b[39m\u001b[38;5;124m is neither a zip-package nor a flat \u001b[39m\u001b[38;5;124m\"\u001b[39m\n\u001b[1;32m     52\u001b[0m                       \u001b[38;5;124m\"\u001b[39m\u001b[38;5;124mXML OpenDocumentFormat file.\u001b[39m\u001b[38;5;124m\"\u001b[39m \u001b[38;5;241m%\u001b[39m filename)\n\u001b[0;32m---> 54\u001b[0m mime_type \u001b[38;5;241m=\u001b[39m \u001b[43m__detect_mime_type\u001b[49m\u001b[43m(\u001b[49m\u001b[43mfm\u001b[49m\u001b[43m)\u001b[49m\n\u001b[1;32m     55\u001b[0m \u001b[38;5;28;01mreturn\u001b[39;00m PackagedDocument(filemanager\u001b[38;5;241m=\u001b[39mfm, mimetype\u001b[38;5;241m=\u001b[39mmime_type)\n",
      "File \u001b[0;32m/Library/Frameworks/Python.framework/Versions/3.11/lib/python3.11/site-packages/ezodf/document.py:69\u001b[0m, in \u001b[0;36m__detect_mime_type\u001b[0;34m(file_manager)\u001b[0m\n\u001b[1;32m     66\u001b[0m \u001b[38;5;28;01melse\u001b[39;00m:\n\u001b[1;32m     67\u001b[0m     \u001b[38;5;66;03m# use file ext name\u001b[39;00m\n\u001b[1;32m     68\u001b[0m     ext \u001b[38;5;241m=\u001b[39m os\u001b[38;5;241m.\u001b[39mpath\u001b[38;5;241m.\u001b[39msplitext(file_manager\u001b[38;5;241m.\u001b[39mzipname)[\u001b[38;5;241m1\u001b[39m]\n\u001b[0;32m---> 69\u001b[0m     mime_type \u001b[38;5;241m=\u001b[39m \u001b[43mMIMETYPES\u001b[49m\u001b[43m[\u001b[49m\u001b[43mext\u001b[49m\u001b[43m]\u001b[49m\n\u001b[1;32m     70\u001b[0m \u001b[38;5;28;01mreturn\u001b[39;00m mime_type\n",
      "\u001b[0;31mKeyError\u001b[0m: '.numbers'"
     ]
    }
   ],
   "source": [
    "import ezodf\n",
    "\n",
    "# Ganti path ini dengan lokasi file Numbers Anda\n",
    "file_path = 'geojson indo no final.numbers'\n",
    "\n",
    "# Membuka file\n",
    "doc = ezodf.opendoc(file_path)\n",
    "\n",
    "# Menampilkan informasi dasar\n",
    "print(\"Sheets in document:\", len(doc.sheets))\n",
    "for sheet in doc.sheets:\n",
    "    print(\"-\"*40)\n",
    "    print(\"Sheet name:\", sheet.name)\n",
    "    print(\"Size of Sheet:\", sheet.nrows(), \"rows by\", sheet.ncols(), \"columns\")\n",
    "    for row in sheet.rows():\n",
    "        # Membaca setiap sel dalam baris\n",
    "        for cell in row:\n",
    "            print(cell.value, end=\" | \")\n",
    "        print()\n"
   ]
  },
  {
   "cell_type": "code",
   "execution_count": null,
   "id": "a158509b-89a3-49ab-93a6-9795c6d75662",
   "metadata": {},
   "outputs": [],
   "source": []
  }
 ],
 "metadata": {
  "kernelspec": {
   "display_name": "Python 3 (ipykernel)",
   "language": "python",
   "name": "python3"
  },
  "language_info": {
   "codemirror_mode": {
    "name": "ipython",
    "version": 3
   },
   "file_extension": ".py",
   "mimetype": "text/x-python",
   "name": "python",
   "nbconvert_exporter": "python",
   "pygments_lexer": "ipython3",
   "version": "3.11.5"
  }
 },
 "nbformat": 4,
 "nbformat_minor": 5
}
