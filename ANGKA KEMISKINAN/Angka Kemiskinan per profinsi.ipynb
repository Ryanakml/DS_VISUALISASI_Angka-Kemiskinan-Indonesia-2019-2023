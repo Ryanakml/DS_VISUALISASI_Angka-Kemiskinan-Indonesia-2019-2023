{
 "cells": [
  {
   "cell_type": "markdown",
   "id": "7afd40a9-fe00-4d43-b9be-043d47d07d04",
   "metadata": {},
   "source": [
    "# riset :\n",
    "1. angka kemiskinan di Indonesia 5 tahun terakhir ",
    "pemetaan wilayah/persentase ",
    "grafik pertumbuhan/penurunan kemiskinan ",
    "\n",
    "2. angka pengangguran di Indonesia 5 tahun terakhir ",
    "pemetaan wilayah/persentase ",
    "grafik pertumbuhan/penurunan pengangguran ",
    "\n",
    "3. angka siswa putus sekolah di Indonesia 5 tahun terakhir ",
    "pemetaan wilayah/persentase ",
    "grafik pertumbuhan/penurunan pendidikan ",
    "\n",
    "4. angka kelaparan di Indonesia 5 tahun terakhir ",
    "pemetaan wilayah/persentase ",
    "grafik pertumbuhan/penurunan kelaparan di Indonesia\n",
    "\n",
    "diutamakan yang sdh berpengalaman riset data & mohon berikan portfolio nya\n",
    "ditunggu bid nya\n",
    "terima kasih"
   ]
  },
  {
   "cell_type": "markdown",
   "id": "b79828ad-3a1f-4c1b-9b21-3b3a9fa0ea79",
   "metadata": {},
   "source": [
    "# Garis Kemiskinan \n",
    "Garis kemiskinan adalah ukuran atau batas yang digunakan untuk menentukan tingkat kemiskinan dalam suatu populasi atau masyarakat. Ini adalah nilai atau ambang batas di bawahnya seseorang dianggap sebagai individu atau rumah tangga yang hidup dalam kondisi kemiskinan.\n",
    "\n",
    "Garis kemiskinan digunakan untuk mengukur dan memantau tingkat kemiskinan dalam suatu populasi serta mengidentifikasi individu atau kelompok yang membutuhkan bantuan atau program kesejahteraan sosial. Representasi dari garis kemiskinan berfungsi sebagai alat untuk mengukur tingkat kesetaraan, ketimpangan, dan kesejahteraan masyarakat."
   ]
  },
  {
   "cell_type": "markdown",
   "id": "5f42d8cf-6642-44ed-99d4-25ee73993a85",
   "metadata": {},
   "source": [
    "# Indeks Kedalaman Kemiskinan:\n",
    "\n",
    "Representasi Kedalaman Kemiskinan: Indeks kedalaman kemiskinan mengukur seberapa dalam atau seberapa jauh individu-individu yang hidup di bawah garis kemiskinan berada di bawah ambang batas tersebut. Ini memberikan informasi tentang tingkat kesenjangan atau kedalaman kemiskinan bagi individu-individu yang hidup di bawah garis kemiskinan.\n",
    "\n",
    "Informasi Tentang Tingkat Kedalaman Kemiskinan: Indeks kedalaman kemiskinan memberikan gambaran tentang sejauh mana kondisi kemiskinan bagi mereka yang berada di bawah garis kemiskinan. Semakin tinggi indeks kedalaman kemiskinan, semakin besar juga kesenjangan atau ketimpangan di antara individu-individu yang miskin."
   ]
  },
  {
   "cell_type": "code",
   "execution_count": 109,
   "id": "7fa63d18-457d-4d72-86c4-172fb5bbddfb",
   "metadata": {},
   "outputs": [],
   "source": [
    "# import \n",
    "import requests\n",
    "import time\n",
    "from selenium.webdriver.chrome.options import Options\n",
    "from selenium import webdriver\n",
    "from selenium.webdriver.chrome.service import Service\n",
    "from bs4 import BeautifulSoup\n",
    "from selenium.webdriver.common.by import By\n",
    "import pandas as pd\n",
    "from selenium.webdriver.support.ui import WebDriverWait\n",
    "from selenium.webdriver.support import expected_conditions as EC\n",
    "import matplotlib.pyplot as plt\n",
    "import plotly.express as px\n",
    "import geopandas as gpd\n",
    "import matplotlib.pyplot as plt"
   ]
  },
  {
   "cell_type": "code",
   "execution_count": 4,
   "id": "24b8290d-0c10-4526-abe7-e547f2eb67ad",
   "metadata": {},
   "outputs": [],
   "source": [
    "url = 'https://www.bps.go.id/id/statistics-table/2/NjI0IzI=/garis-kemiskinan-menurut-kabupaten-kota.html'"
   ]
  },
  {
   "cell_type": "code",
   "execution_count": 12,
   "id": "ab251e38-a75a-4797-a8bf-b92f56f4fc8a",
   "metadata": {},
   "outputs": [
    {
     "name": "stdout",
     "output_type": "stream",
     "text": [
      "None\n"
     ]
    }
   ],
   "source": [
    "# Mengambil halaman web menggunakan requests\n",
    "response = requests.get(url)\n",
    "\n",
    "# Membuat objek BeautifulSoup untuk melakukan parsing HTML\n",
    "soup = BeautifulSoup(response.content, 'html.parser')\n",
    "\n",
    "# Mencari tabel di dalam halaman web\n",
    "table = soup.find('div', class_='w-full overflow-auto')"
   ]
  },
  {
   "cell_type": "code",
   "execution_count": null,
   "id": "5aaef521-deee-48d0-9e19-9f0eef0addef",
   "metadata": {},
   "outputs": [],
   "source": [
    "# Mengonversi tabel HTML menjadi DataFrame menggunakan pandas\n",
    "if table:\n",
    "    df = pd.read_html(str(table))[0]  # Membaca tabel HTML dan mengonversinya menjadi DataFrame\n",
    "    print(df)  # Menampilkan DataFrame\n",
    "\n",
    "# Jika tabel tidak ditemukan\n",
    "else:\n",
    "    print(\"Tidak ditemukan tabel pada halaman web ini.\")"
   ]
  },
  {
   "cell_type": "code",
   "execution_count": 28,
   "id": "99baf539-a110-4c6a-a4ad-05d01eae8da7",
   "metadata": {},
   "outputs": [],
   "source": [
    "# Selenium\n",
    "\n",
    "driver = webdriver.Chrome()\n",
    "driver.get(url)\n",
    "\n",
    "konten = driver.page_source\n",
    "\n",
    "soup = BeautifulSoup(konten, 'html.parser')\n",
    "table = soup.find_all('table', class_='TabelDinamis_table__6rchP')"
   ]
  },
  {
   "cell_type": "code",
   "execution_count": 30,
   "id": "0034092a-e012-4928-bce2-576539f67257",
   "metadata": {
    "scrolled": true
   },
   "outputs": [
    {
     "name": "stderr",
     "output_type": "stream",
     "text": [
      "/var/folders/xc/d0qhyhwn3p5gbwrj185qgv1h0000gn/T/ipykernel_43823/2076908085.py:1: FutureWarning: Passing literal html to 'read_html' is deprecated and will be removed in a future version. To read from a literal string, wrap it in a 'StringIO' object.\n",
      "  df = pd.read_html(str(table))[0]\n"
     ]
    },
    {
     "data": {
      "text/html": [
       "<div>\n",
       "<style scoped>\n",
       "    .dataframe tbody tr th:only-of-type {\n",
       "        vertical-align: middle;\n",
       "    }\n",
       "\n",
       "    .dataframe tbody tr th {\n",
       "        vertical-align: top;\n",
       "    }\n",
       "\n",
       "    .dataframe thead tr th {\n",
       "        text-align: left;\n",
       "    }\n",
       "</style>\n",
       "<table border=\"1\" class=\"dataframe\">\n",
       "  <thead>\n",
       "    <tr>\n",
       "      <th></th>\n",
       "      <th>Nama Wilayah</th>\n",
       "      <th>Unnamed: 1_level_0</th>\n",
       "      <th>Unnamed: 2_level_0</th>\n",
       "    </tr>\n",
       "    <tr>\n",
       "      <th></th>\n",
       "      <th>Nama Wilayah</th>\n",
       "      <th>Garis Kemiskinan Menurut Kabupaten/Kota (Rupiah/kapita/bulan)</th>\n",
       "      <th>Garis Kemiskinan Menurut Kabupaten/Kota (Rupiah/kapita/bulan)</th>\n",
       "    </tr>\n",
       "    <tr>\n",
       "      <th></th>\n",
       "      <th>Nama Wilayah</th>\n",
       "      <th>2022</th>\n",
       "      <th>2023</th>\n",
       "    </tr>\n",
       "  </thead>\n",
       "  <tbody>\n",
       "    <tr>\n",
       "      <th>0</th>\n",
       "      <td>ACEH</td>\n",
       "      <td>579.227</td>\n",
       "      <td>627.534</td>\n",
       "    </tr>\n",
       "    <tr>\n",
       "      <th>1</th>\n",
       "      <td>Simeulue</td>\n",
       "      <td>493.303</td>\n",
       "      <td>538.693</td>\n",
       "    </tr>\n",
       "    <tr>\n",
       "      <th>2</th>\n",
       "      <td>Aceh Singkil</td>\n",
       "      <td>518.951</td>\n",
       "      <td>568.691</td>\n",
       "    </tr>\n",
       "    <tr>\n",
       "      <th>3</th>\n",
       "      <td>Aceh Selatan</td>\n",
       "      <td>446.224</td>\n",
       "      <td>494.565</td>\n",
       "    </tr>\n",
       "    <tr>\n",
       "      <th>4</th>\n",
       "      <td>Aceh Tenggara</td>\n",
       "      <td>430.825</td>\n",
       "      <td>471.301</td>\n",
       "    </tr>\n",
       "    <tr>\n",
       "      <th>...</th>\n",
       "      <td>...</td>\n",
       "      <td>...</td>\n",
       "      <td>...</td>\n",
       "    </tr>\n",
       "    <tr>\n",
       "      <th>543</th>\n",
       "      <td>Puncak</td>\n",
       "      <td>754.778</td>\n",
       "      <td>836.828</td>\n",
       "    </tr>\n",
       "    <tr>\n",
       "      <th>544</th>\n",
       "      <td>Dogiyai</td>\n",
       "      <td>592.213</td>\n",
       "      <td>653.007</td>\n",
       "    </tr>\n",
       "    <tr>\n",
       "      <th>545</th>\n",
       "      <td>Intan Jaya</td>\n",
       "      <td>769.993</td>\n",
       "      <td>853.098</td>\n",
       "    </tr>\n",
       "    <tr>\n",
       "      <th>546</th>\n",
       "      <td>Deiyai</td>\n",
       "      <td>647.902</td>\n",
       "      <td>709.749</td>\n",
       "    </tr>\n",
       "    <tr>\n",
       "      <th>547</th>\n",
       "      <td>Kota Jayapura</td>\n",
       "      <td>1.099.019</td>\n",
       "      <td>1.147.265</td>\n",
       "    </tr>\n",
       "  </tbody>\n",
       "</table>\n",
       "<p>548 rows × 3 columns</p>\n",
       "</div>"
      ],
      "text/plain": [
       "      Nama Wilayah  \\\n",
       "      Nama Wilayah   \n",
       "      Nama Wilayah   \n",
       "0             ACEH   \n",
       "1         Simeulue   \n",
       "2     Aceh Singkil   \n",
       "3     Aceh Selatan   \n",
       "4    Aceh Tenggara   \n",
       "..             ...   \n",
       "543         Puncak   \n",
       "544        Dogiyai   \n",
       "545     Intan Jaya   \n",
       "546         Deiyai   \n",
       "547  Kota Jayapura   \n",
       "\n",
       "                                               Unnamed: 1_level_0  \\\n",
       "    Garis Kemiskinan Menurut Kabupaten/Kota (Rupiah/kapita/bulan)   \n",
       "                                                             2022   \n",
       "0                                              579.227              \n",
       "1                                              493.303              \n",
       "2                                              518.951              \n",
       "3                                              446.224              \n",
       "4                                              430.825              \n",
       "..                                                 ...              \n",
       "543                                            754.778              \n",
       "544                                            592.213              \n",
       "545                                            769.993              \n",
       "546                                            647.902              \n",
       "547                                          1.099.019              \n",
       "\n",
       "                                               Unnamed: 2_level_0  \n",
       "    Garis Kemiskinan Menurut Kabupaten/Kota (Rupiah/kapita/bulan)  \n",
       "                                                             2023  \n",
       "0                                              627.534             \n",
       "1                                              538.693             \n",
       "2                                              568.691             \n",
       "3                                              494.565             \n",
       "4                                              471.301             \n",
       "..                                                 ...             \n",
       "543                                            836.828             \n",
       "544                                            653.007             \n",
       "545                                            853.098             \n",
       "546                                            709.749             \n",
       "547                                          1.147.265             \n",
       "\n",
       "[548 rows x 3 columns]"
      ]
     },
     "execution_count": 30,
     "metadata": {},
     "output_type": "execute_result"
    }
   ],
   "source": [
    "df = pd.read_html(str(table))[0]\n",
    "df"
   ]
  },
  {
   "cell_type": "markdown",
   "id": "bbfe2ddf-bcfc-426a-90ee-04912c8a891e",
   "metadata": {},
   "source": [
    "# DARI CSV LANGSUNG"
   ]
  },
  {
   "cell_type": "code",
   "execution_count": 45,
   "id": "0c8151b3-0b7d-4b27-8b76-c280d9205d1f",
   "metadata": {},
   "outputs": [],
   "source": [
    "sixteen_eighteen = pd.read_csv('Garis Kemiskinan Menurut Kabupaten_Kota, 2016-2018.csv')\n",
    "nineteen_twenyone = pd.read_csv('Garis Kemiskinan Menurut Kabupaten_Kota, 2019-2021.csv')\n",
    "twenyto_twenythree = pd.read_csv('Garis Kemiskinan Menurut Kabupaten_Kota, 2022-2023.csv')\n"
   ]
  },
  {
   "cell_type": "code",
   "execution_count": 47,
   "id": "4ccd9084-17d6-4405-9633-ff5dee24d844",
   "metadata": {
    "scrolled": true
   },
   "outputs": [
    {
     "data": {
      "text/html": [
       "<div>\n",
       "<style scoped>\n",
       "    .dataframe tbody tr th:only-of-type {\n",
       "        vertical-align: middle;\n",
       "    }\n",
       "\n",
       "    .dataframe tbody tr th {\n",
       "        vertical-align: top;\n",
       "    }\n",
       "\n",
       "    .dataframe thead th {\n",
       "        text-align: right;\n",
       "    }\n",
       "</style>\n",
       "<table border=\"1\" class=\"dataframe\">\n",
       "  <thead>\n",
       "    <tr style=\"text-align: right;\">\n",
       "      <th></th>\n",
       "      <th>Nama Wilayah</th>\n",
       "      <th>2016</th>\n",
       "      <th>2017</th>\n",
       "      <th>2018</th>\n",
       "    </tr>\n",
       "  </thead>\n",
       "  <tbody>\n",
       "    <tr>\n",
       "      <th>2</th>\n",
       "      <td>ACEH</td>\n",
       "      <td>410956</td>\n",
       "      <td>435454.0</td>\n",
       "      <td>464626.0</td>\n",
       "    </tr>\n",
       "    <tr>\n",
       "      <th>3</th>\n",
       "      <td>Simeulue</td>\n",
       "      <td>326563</td>\n",
       "      <td>350622.0</td>\n",
       "      <td>368068.0</td>\n",
       "    </tr>\n",
       "    <tr>\n",
       "      <th>4</th>\n",
       "      <td>Aceh Singkil</td>\n",
       "      <td>368968</td>\n",
       "      <td>406015.0</td>\n",
       "      <td>427804.0</td>\n",
       "    </tr>\n",
       "    <tr>\n",
       "      <th>5</th>\n",
       "      <td>Aceh Selatan</td>\n",
       "      <td>304466</td>\n",
       "      <td>332177.0</td>\n",
       "      <td>351288.0</td>\n",
       "    </tr>\n",
       "    <tr>\n",
       "      <th>6</th>\n",
       "      <td>Aceh Tenggara</td>\n",
       "      <td>221799</td>\n",
       "      <td>250854.0</td>\n",
       "      <td>340196.0</td>\n",
       "    </tr>\n",
       "    <tr>\n",
       "      <th>...</th>\n",
       "      <td>...</td>\n",
       "      <td>...</td>\n",
       "      <td>...</td>\n",
       "      <td>...</td>\n",
       "    </tr>\n",
       "    <tr>\n",
       "      <th>545</th>\n",
       "      <td>Puncak</td>\n",
       "      <td>545506</td>\n",
       "      <td>602481.0</td>\n",
       "      <td>611369.0</td>\n",
       "    </tr>\n",
       "    <tr>\n",
       "      <th>546</th>\n",
       "      <td>Dogiyai</td>\n",
       "      <td>427149</td>\n",
       "      <td>471762.0</td>\n",
       "      <td>477674.0</td>\n",
       "    </tr>\n",
       "    <tr>\n",
       "      <th>547</th>\n",
       "      <td>Intan Jaya</td>\n",
       "      <td>542007</td>\n",
       "      <td>598436.0</td>\n",
       "      <td>606138.0</td>\n",
       "    </tr>\n",
       "    <tr>\n",
       "      <th>548</th>\n",
       "      <td>Deiyai</td>\n",
       "      <td>503898</td>\n",
       "      <td>556281.0</td>\n",
       "      <td>561857.0</td>\n",
       "    </tr>\n",
       "    <tr>\n",
       "      <th>549</th>\n",
       "      <td>Kota Jayapura</td>\n",
       "      <td>805746</td>\n",
       "      <td>849496.0</td>\n",
       "      <td>944479.0</td>\n",
       "    </tr>\n",
       "  </tbody>\n",
       "</table>\n",
       "<p>548 rows × 4 columns</p>\n",
       "</div>"
      ],
      "text/plain": [
       "      Nama Wilayah    2016      2017      2018\n",
       "2             ACEH  410956  435454.0  464626.0\n",
       "3         Simeulue  326563  350622.0  368068.0\n",
       "4     Aceh Singkil  368968  406015.0  427804.0\n",
       "5     Aceh Selatan  304466  332177.0  351288.0\n",
       "6    Aceh Tenggara  221799  250854.0  340196.0\n",
       "..             ...     ...       ...       ...\n",
       "545         Puncak  545506  602481.0  611369.0\n",
       "546        Dogiyai  427149  471762.0  477674.0\n",
       "547     Intan Jaya  542007  598436.0  606138.0\n",
       "548         Deiyai  503898  556281.0  561857.0\n",
       "549  Kota Jayapura  805746  849496.0  944479.0\n",
       "\n",
       "[548 rows x 4 columns]"
      ]
     },
     "execution_count": 47,
     "metadata": {},
     "output_type": "execute_result"
    }
   ],
   "source": [
    "## sixteen_eighteen\n",
    "# Mendefinisikan nama baru untuk header\n",
    "new_headers = ['Nama Wilayah', '2016', '2017', '2018']\n",
    "\n",
    "# Mengubah nama header pada DataFrame\n",
    "sixteen_eighteen.columns = new_headers\n",
    "sixteen_eighteen = sixteen_eighteen.drop([0, 1])\n",
    "sixteen_eighteen"
   ]
  },
  {
   "cell_type": "code",
   "execution_count": 57,
   "id": "30a3127c-cedd-4db0-a298-7d16fb033e67",
   "metadata": {
    "scrolled": true
   },
   "outputs": [
    {
     "data": {
      "text/html": [
       "<div>\n",
       "<style scoped>\n",
       "    .dataframe tbody tr th:only-of-type {\n",
       "        vertical-align: middle;\n",
       "    }\n",
       "\n",
       "    .dataframe tbody tr th {\n",
       "        vertical-align: top;\n",
       "    }\n",
       "\n",
       "    .dataframe thead th {\n",
       "        text-align: right;\n",
       "    }\n",
       "</style>\n",
       "<table border=\"1\" class=\"dataframe\">\n",
       "  <thead>\n",
       "    <tr style=\"text-align: right;\">\n",
       "      <th></th>\n",
       "      <th>2019</th>\n",
       "      <th>2020</th>\n",
       "      <th>2021</th>\n",
       "    </tr>\n",
       "  </thead>\n",
       "  <tbody>\n",
       "    <tr>\n",
       "      <th>2</th>\n",
       "      <td>486935</td>\n",
       "      <td>522126.0</td>\n",
       "      <td>541109.0</td>\n",
       "    </tr>\n",
       "    <tr>\n",
       "      <th>3</th>\n",
       "      <td>404739</td>\n",
       "      <td>444754.0</td>\n",
       "      <td>458896.0</td>\n",
       "    </tr>\n",
       "    <tr>\n",
       "      <th>4</th>\n",
       "      <td>450217</td>\n",
       "      <td>473983.0</td>\n",
       "      <td>487249.0</td>\n",
       "    </tr>\n",
       "    <tr>\n",
       "      <th>5</th>\n",
       "      <td>369107</td>\n",
       "      <td>405786.0</td>\n",
       "      <td>418689.0</td>\n",
       "    </tr>\n",
       "    <tr>\n",
       "      <th>6</th>\n",
       "      <td>357015</td>\n",
       "      <td>392493.0</td>\n",
       "      <td>404725.0</td>\n",
       "    </tr>\n",
       "    <tr>\n",
       "      <th>...</th>\n",
       "      <td>...</td>\n",
       "      <td>...</td>\n",
       "      <td>...</td>\n",
       "    </tr>\n",
       "    <tr>\n",
       "      <th>545</th>\n",
       "      <td>630074</td>\n",
       "      <td>664865.0</td>\n",
       "      <td>721541.0</td>\n",
       "    </tr>\n",
       "    <tr>\n",
       "      <th>546</th>\n",
       "      <td>492905</td>\n",
       "      <td>512654.0</td>\n",
       "      <td>557009.0</td>\n",
       "    </tr>\n",
       "    <tr>\n",
       "      <th>547</th>\n",
       "      <td>627128</td>\n",
       "      <td>662465.0</td>\n",
       "      <td>725106.0</td>\n",
       "    </tr>\n",
       "    <tr>\n",
       "      <th>548</th>\n",
       "      <td>579263</td>\n",
       "      <td>608868.0</td>\n",
       "      <td>627742.0</td>\n",
       "    </tr>\n",
       "    <tr>\n",
       "      <th>549</th>\n",
       "      <td>992610</td>\n",
       "      <td>1021759.0</td>\n",
       "      <td>1051297.0</td>\n",
       "    </tr>\n",
       "  </tbody>\n",
       "</table>\n",
       "<p>548 rows × 3 columns</p>\n",
       "</div>"
      ],
      "text/plain": [
       "       2019       2020       2021\n",
       "2    486935   522126.0   541109.0\n",
       "3    404739   444754.0   458896.0\n",
       "4    450217   473983.0   487249.0\n",
       "5    369107   405786.0   418689.0\n",
       "6    357015   392493.0   404725.0\n",
       "..      ...        ...        ...\n",
       "545  630074   664865.0   721541.0\n",
       "546  492905   512654.0   557009.0\n",
       "547  627128   662465.0   725106.0\n",
       "548  579263   608868.0   627742.0\n",
       "549  992610  1021759.0  1051297.0\n",
       "\n",
       "[548 rows x 3 columns]"
      ]
     },
     "execution_count": 57,
     "metadata": {},
     "output_type": "execute_result"
    }
   ],
   "source": [
    "new_headers = ['Nama Wilayah', '2019', '2020', '2021']\n",
    "\n",
    "# Mengubah nama header pada DataFrame\n",
    "nineteen_twenyone.columns = new_headers\n",
    "nineteen_twenyone = nineteen_twenyone.drop([0, 1])\n",
    "nineteen_twenyone('Nama Wilayah', axis=1, inplace=True)\n",
    "nineteen_twenyone"
   ]
  },
  {
   "cell_type": "code",
   "execution_count": 58,
   "id": "f059aa54-6e8a-40bb-b50a-e4975afcd70d",
   "metadata": {
    "scrolled": true
   },
   "outputs": [
    {
     "data": {
      "text/html": [
       "<div>\n",
       "<style scoped>\n",
       "    .dataframe tbody tr th:only-of-type {\n",
       "        vertical-align: middle;\n",
       "    }\n",
       "\n",
       "    .dataframe tbody tr th {\n",
       "        vertical-align: top;\n",
       "    }\n",
       "\n",
       "    .dataframe thead th {\n",
       "        text-align: right;\n",
       "    }\n",
       "</style>\n",
       "<table border=\"1\" class=\"dataframe\">\n",
       "  <thead>\n",
       "    <tr style=\"text-align: right;\">\n",
       "      <th></th>\n",
       "      <th>2022</th>\n",
       "      <th>2023</th>\n",
       "    </tr>\n",
       "  </thead>\n",
       "  <tbody>\n",
       "    <tr>\n",
       "      <th>2</th>\n",
       "      <td>579227</td>\n",
       "      <td>627534.0</td>\n",
       "    </tr>\n",
       "    <tr>\n",
       "      <th>3</th>\n",
       "      <td>493303</td>\n",
       "      <td>538693.0</td>\n",
       "    </tr>\n",
       "    <tr>\n",
       "      <th>4</th>\n",
       "      <td>518951</td>\n",
       "      <td>568691.0</td>\n",
       "    </tr>\n",
       "    <tr>\n",
       "      <th>5</th>\n",
       "      <td>446224</td>\n",
       "      <td>494565.0</td>\n",
       "    </tr>\n",
       "    <tr>\n",
       "      <th>6</th>\n",
       "      <td>430825</td>\n",
       "      <td>471301.0</td>\n",
       "    </tr>\n",
       "    <tr>\n",
       "      <th>...</th>\n",
       "      <td>...</td>\n",
       "      <td>...</td>\n",
       "    </tr>\n",
       "    <tr>\n",
       "      <th>545</th>\n",
       "      <td>754778</td>\n",
       "      <td>836828.0</td>\n",
       "    </tr>\n",
       "    <tr>\n",
       "      <th>546</th>\n",
       "      <td>592213</td>\n",
       "      <td>653007.0</td>\n",
       "    </tr>\n",
       "    <tr>\n",
       "      <th>547</th>\n",
       "      <td>769993</td>\n",
       "      <td>853098.0</td>\n",
       "    </tr>\n",
       "    <tr>\n",
       "      <th>548</th>\n",
       "      <td>647902</td>\n",
       "      <td>709749.0</td>\n",
       "    </tr>\n",
       "    <tr>\n",
       "      <th>549</th>\n",
       "      <td>1099019</td>\n",
       "      <td>1147265.0</td>\n",
       "    </tr>\n",
       "  </tbody>\n",
       "</table>\n",
       "<p>548 rows × 2 columns</p>\n",
       "</div>"
      ],
      "text/plain": [
       "        2022       2023\n",
       "2     579227   627534.0\n",
       "3     493303   538693.0\n",
       "4     518951   568691.0\n",
       "5     446224   494565.0\n",
       "6     430825   471301.0\n",
       "..       ...        ...\n",
       "545   754778   836828.0\n",
       "546   592213   653007.0\n",
       "547   769993   853098.0\n",
       "548   647902   709749.0\n",
       "549  1099019  1147265.0\n",
       "\n",
       "[548 rows x 2 columns]"
      ]
     },
     "execution_count": 58,
     "metadata": {},
     "output_type": "execute_result"
    }
   ],
   "source": [
    "new_headers = ['Nama Wilayah', '2022', '2023']\n",
    "\n",
    "# Mengubah nama header pada DataFrame\n",
    "twenyto_twenythree.columns = new_headers\n",
    "twenyto_twenythree.drop('Nama Wilayah', axis=1, inplace=True)\n",
    "twenyto_twenythree = twenyto_twenythree.drop([0, 1])\n",
    "twenyto_twenythree"
   ]
  },
  {
   "cell_type": "code",
   "execution_count": null,
   "id": "8b1f31f8-1a3e-4091-8e41-92570c91d8bd",
   "metadata": {},
   "outputs": [],
   "source": [
    "sixteen_eighteen \n",
    "nineteen_twenyone \n",
    "twenyto_twenythree = "
   ]
  },
  {
   "cell_type": "code",
   "execution_count": 427,
   "id": "fd6c62f7-0c74-445f-9b23-ae6f7eed8f16",
   "metadata": {},
   "outputs": [],
   "source": [
    "# Gabungkan ketiga DataFrame secara berurutan berdasarkan baris (dalam hal ini, barisnya akan ditambahkan)\n",
    "five = pd.concat([sixteen_eighteen, nineteen_twenyone,twenyto_twenythree], axis=1)\n",
    "\n",
    "# Jika Anda ingin me-reset indeks DataFrame yang digabungkan\n",
    "five.reset_index(drop=True, inplace=True)\n",
    "five.to_csv('eight_years.csv')"
   ]
  },
  {
   "cell_type": "code",
   "execution_count": 361,
   "id": "1193b4ea-801d-4daa-84fd-2e27365eeb49",
   "metadata": {},
   "outputs": [
    {
     "data": {
      "text/html": [
       "<div>\n",
       "<style scoped>\n",
       "    .dataframe tbody tr th:only-of-type {\n",
       "        vertical-align: middle;\n",
       "    }\n",
       "\n",
       "    .dataframe tbody tr th {\n",
       "        vertical-align: top;\n",
       "    }\n",
       "\n",
       "    .dataframe thead th {\n",
       "        text-align: right;\n",
       "    }\n",
       "</style>\n",
       "<table border=\"1\" class=\"dataframe\">\n",
       "  <thead>\n",
       "    <tr style=\"text-align: right;\">\n",
       "      <th></th>\n",
       "      <th>Nama Wilayah</th>\n",
       "      <th>2016</th>\n",
       "      <th>2017</th>\n",
       "      <th>2018</th>\n",
       "      <th>2019</th>\n",
       "      <th>2020</th>\n",
       "      <th>2021</th>\n",
       "      <th>2022</th>\n",
       "      <th>2023</th>\n",
       "    </tr>\n",
       "  </thead>\n",
       "  <tbody>\n",
       "    <tr>\n",
       "      <th>0</th>\n",
       "      <td>ACEH</td>\n",
       "      <td>410956</td>\n",
       "      <td>435454.0</td>\n",
       "      <td>464626.0</td>\n",
       "      <td>486935</td>\n",
       "      <td>522126.0</td>\n",
       "      <td>541109.0</td>\n",
       "      <td>579227</td>\n",
       "      <td>627534.0</td>\n",
       "    </tr>\n",
       "    <tr>\n",
       "      <th>1</th>\n",
       "      <td>Simeulue</td>\n",
       "      <td>326563</td>\n",
       "      <td>350622.0</td>\n",
       "      <td>368068.0</td>\n",
       "      <td>404739</td>\n",
       "      <td>444754.0</td>\n",
       "      <td>458896.0</td>\n",
       "      <td>493303</td>\n",
       "      <td>538693.0</td>\n",
       "    </tr>\n",
       "    <tr>\n",
       "      <th>2</th>\n",
       "      <td>Aceh Singkil</td>\n",
       "      <td>368968</td>\n",
       "      <td>406015.0</td>\n",
       "      <td>427804.0</td>\n",
       "      <td>450217</td>\n",
       "      <td>473983.0</td>\n",
       "      <td>487249.0</td>\n",
       "      <td>518951</td>\n",
       "      <td>568691.0</td>\n",
       "    </tr>\n",
       "    <tr>\n",
       "      <th>3</th>\n",
       "      <td>Aceh Selatan</td>\n",
       "      <td>304466</td>\n",
       "      <td>332177.0</td>\n",
       "      <td>351288.0</td>\n",
       "      <td>369107</td>\n",
       "      <td>405786.0</td>\n",
       "      <td>418689.0</td>\n",
       "      <td>446224</td>\n",
       "      <td>494565.0</td>\n",
       "    </tr>\n",
       "    <tr>\n",
       "      <th>4</th>\n",
       "      <td>Aceh Tenggara</td>\n",
       "      <td>221799</td>\n",
       "      <td>250854.0</td>\n",
       "      <td>340196.0</td>\n",
       "      <td>357015</td>\n",
       "      <td>392493.0</td>\n",
       "      <td>404725.0</td>\n",
       "      <td>430825</td>\n",
       "      <td>471301.0</td>\n",
       "    </tr>\n",
       "    <tr>\n",
       "      <th>...</th>\n",
       "      <td>...</td>\n",
       "      <td>...</td>\n",
       "      <td>...</td>\n",
       "      <td>...</td>\n",
       "      <td>...</td>\n",
       "      <td>...</td>\n",
       "      <td>...</td>\n",
       "      <td>...</td>\n",
       "      <td>...</td>\n",
       "    </tr>\n",
       "    <tr>\n",
       "      <th>543</th>\n",
       "      <td>Puncak</td>\n",
       "      <td>545506</td>\n",
       "      <td>602481.0</td>\n",
       "      <td>611369.0</td>\n",
       "      <td>630074</td>\n",
       "      <td>664865.0</td>\n",
       "      <td>721541.0</td>\n",
       "      <td>754778</td>\n",
       "      <td>836828.0</td>\n",
       "    </tr>\n",
       "    <tr>\n",
       "      <th>544</th>\n",
       "      <td>Dogiyai</td>\n",
       "      <td>427149</td>\n",
       "      <td>471762.0</td>\n",
       "      <td>477674.0</td>\n",
       "      <td>492905</td>\n",
       "      <td>512654.0</td>\n",
       "      <td>557009.0</td>\n",
       "      <td>592213</td>\n",
       "      <td>653007.0</td>\n",
       "    </tr>\n",
       "    <tr>\n",
       "      <th>545</th>\n",
       "      <td>Intan Jaya</td>\n",
       "      <td>542007</td>\n",
       "      <td>598436.0</td>\n",
       "      <td>606138.0</td>\n",
       "      <td>627128</td>\n",
       "      <td>662465.0</td>\n",
       "      <td>725106.0</td>\n",
       "      <td>769993</td>\n",
       "      <td>853098.0</td>\n",
       "    </tr>\n",
       "    <tr>\n",
       "      <th>546</th>\n",
       "      <td>Deiyai</td>\n",
       "      <td>503898</td>\n",
       "      <td>556281.0</td>\n",
       "      <td>561857.0</td>\n",
       "      <td>579263</td>\n",
       "      <td>608868.0</td>\n",
       "      <td>627742.0</td>\n",
       "      <td>647902</td>\n",
       "      <td>709749.0</td>\n",
       "    </tr>\n",
       "    <tr>\n",
       "      <th>547</th>\n",
       "      <td>Kota Jayapura</td>\n",
       "      <td>805746</td>\n",
       "      <td>849496.0</td>\n",
       "      <td>944479.0</td>\n",
       "      <td>992610</td>\n",
       "      <td>1021759.0</td>\n",
       "      <td>1051297.0</td>\n",
       "      <td>1099019</td>\n",
       "      <td>1147265.0</td>\n",
       "    </tr>\n",
       "  </tbody>\n",
       "</table>\n",
       "<p>548 rows × 9 columns</p>\n",
       "</div>"
      ],
      "text/plain": [
       "      Nama Wilayah    2016      2017      2018    2019       2020       2021  \\\n",
       "0             ACEH  410956  435454.0  464626.0  486935   522126.0   541109.0   \n",
       "1         Simeulue  326563  350622.0  368068.0  404739   444754.0   458896.0   \n",
       "2     Aceh Singkil  368968  406015.0  427804.0  450217   473983.0   487249.0   \n",
       "3     Aceh Selatan  304466  332177.0  351288.0  369107   405786.0   418689.0   \n",
       "4    Aceh Tenggara  221799  250854.0  340196.0  357015   392493.0   404725.0   \n",
       "..             ...     ...       ...       ...     ...        ...        ...   \n",
       "543         Puncak  545506  602481.0  611369.0  630074   664865.0   721541.0   \n",
       "544        Dogiyai  427149  471762.0  477674.0  492905   512654.0   557009.0   \n",
       "545     Intan Jaya  542007  598436.0  606138.0  627128   662465.0   725106.0   \n",
       "546         Deiyai  503898  556281.0  561857.0  579263   608868.0   627742.0   \n",
       "547  Kota Jayapura  805746  849496.0  944479.0  992610  1021759.0  1051297.0   \n",
       "\n",
       "        2022       2023  \n",
       "0     579227   627534.0  \n",
       "1     493303   538693.0  \n",
       "2     518951   568691.0  \n",
       "3     446224   494565.0  \n",
       "4     430825   471301.0  \n",
       "..       ...        ...  \n",
       "543   754778   836828.0  \n",
       "544   592213   653007.0  \n",
       "545   769993   853098.0  \n",
       "546   647902   709749.0  \n",
       "547  1099019  1147265.0  \n",
       "\n",
       "[548 rows x 9 columns]"
      ]
     },
     "execution_count": 361,
     "metadata": {},
     "output_type": "execute_result"
    }
   ],
   "source": [
    "five"
   ]
  },
  {
   "cell_type": "code",
   "execution_count": 362,
   "id": "4998e2b6-6c10-4c17-96df-c6dc8c19e01d",
   "metadata": {},
   "outputs": [
    {
     "name": "stdout",
     "output_type": "stream",
     "text": [
      "<class 'pandas.core.frame.DataFrame'>\n",
      "RangeIndex: 548 entries, 0 to 547\n",
      "Data columns (total 9 columns):\n",
      " #   Column        Non-Null Count  Dtype  \n",
      "---  ------        --------------  -----  \n",
      " 0   Nama Wilayah  548 non-null    object \n",
      " 1   2016          548 non-null    object \n",
      " 2   2017          548 non-null    float64\n",
      " 3   2018          548 non-null    float64\n",
      " 4   2019          548 non-null    object \n",
      " 5   2020          548 non-null    float64\n",
      " 6   2021          548 non-null    float64\n",
      " 7   2022          548 non-null    object \n",
      " 8   2023          548 non-null    float64\n",
      "dtypes: float64(5), object(4)\n",
      "memory usage: 38.7+ KB\n"
     ]
    }
   ],
   "source": [
    "five.info()"
   ]
  },
  {
   "cell_type": "code",
   "execution_count": 363,
   "id": "35790913-2a8f-47c9-a838-ec366b42cc96",
   "metadata": {},
   "outputs": [],
   "source": [
    "# Ubah kolom '2016', '2019', '2022' menjadi tipe data integer\n",
    "five['2016'] = five['2016'].astype(int)\n",
    "five['2017'] = five['2017'].astype(int)\n",
    "five['2018'] = five['2018'].astype(int)\n",
    "five['2019'] = five['2019'].astype(int)\n",
    "five['2020'] = five['2020'].astype(int)\n",
    "five['2021'] = five['2021'].astype(int)\n",
    "five['2022'] = five['2022'].astype(int)\n",
    "five['2023'] = five['2023'].astype(int)"
   ]
  },
  {
   "cell_type": "code",
   "execution_count": 364,
   "id": "2426d3a6-2286-41a9-939e-8f9ec8ea7f11",
   "metadata": {},
   "outputs": [
    {
     "name": "stdout",
     "output_type": "stream",
     "text": [
      "<class 'pandas.core.frame.DataFrame'>\n",
      "RangeIndex: 548 entries, 0 to 547\n",
      "Data columns (total 9 columns):\n",
      " #   Column        Non-Null Count  Dtype \n",
      "---  ------        --------------  ----- \n",
      " 0   Nama Wilayah  548 non-null    object\n",
      " 1   2016          548 non-null    int64 \n",
      " 2   2017          548 non-null    int64 \n",
      " 3   2018          548 non-null    int64 \n",
      " 4   2019          548 non-null    int64 \n",
      " 5   2020          548 non-null    int64 \n",
      " 6   2021          548 non-null    int64 \n",
      " 7   2022          548 non-null    int64 \n",
      " 8   2023          548 non-null    int64 \n",
      "dtypes: int64(8), object(1)\n",
      "memory usage: 38.7+ KB\n"
     ]
    }
   ],
   "source": [
    "five.info()"
   ]
  },
  {
   "cell_type": "code",
   "execution_count": 365,
   "id": "4f63e0b2-10a7-46fb-afcc-045a5088c748",
   "metadata": {},
   "outputs": [
    {
     "data": {
      "text/html": [
       "<div>\n",
       "<style scoped>\n",
       "    .dataframe tbody tr th:only-of-type {\n",
       "        vertical-align: middle;\n",
       "    }\n",
       "\n",
       "    .dataframe tbody tr th {\n",
       "        vertical-align: top;\n",
       "    }\n",
       "\n",
       "    .dataframe thead th {\n",
       "        text-align: right;\n",
       "    }\n",
       "</style>\n",
       "<table border=\"1\" class=\"dataframe\">\n",
       "  <thead>\n",
       "    <tr style=\"text-align: right;\">\n",
       "      <th></th>\n",
       "      <th>Nama Wilayah</th>\n",
       "      <th>2016</th>\n",
       "      <th>2017</th>\n",
       "      <th>2018</th>\n",
       "      <th>2019</th>\n",
       "      <th>2020</th>\n",
       "      <th>2021</th>\n",
       "      <th>2022</th>\n",
       "      <th>2023</th>\n",
       "    </tr>\n",
       "  </thead>\n",
       "  <tbody>\n",
       "    <tr>\n",
       "      <th>0</th>\n",
       "      <td>ACEH</td>\n",
       "      <td>410956</td>\n",
       "      <td>435454</td>\n",
       "      <td>464626</td>\n",
       "      <td>486935</td>\n",
       "      <td>522126</td>\n",
       "      <td>541109</td>\n",
       "      <td>579227</td>\n",
       "      <td>627534</td>\n",
       "    </tr>\n",
       "    <tr>\n",
       "      <th>1</th>\n",
       "      <td>Simeulue</td>\n",
       "      <td>326563</td>\n",
       "      <td>350622</td>\n",
       "      <td>368068</td>\n",
       "      <td>404739</td>\n",
       "      <td>444754</td>\n",
       "      <td>458896</td>\n",
       "      <td>493303</td>\n",
       "      <td>538693</td>\n",
       "    </tr>\n",
       "    <tr>\n",
       "      <th>2</th>\n",
       "      <td>Aceh Singkil</td>\n",
       "      <td>368968</td>\n",
       "      <td>406015</td>\n",
       "      <td>427804</td>\n",
       "      <td>450217</td>\n",
       "      <td>473983</td>\n",
       "      <td>487249</td>\n",
       "      <td>518951</td>\n",
       "      <td>568691</td>\n",
       "    </tr>\n",
       "    <tr>\n",
       "      <th>3</th>\n",
       "      <td>Aceh Selatan</td>\n",
       "      <td>304466</td>\n",
       "      <td>332177</td>\n",
       "      <td>351288</td>\n",
       "      <td>369107</td>\n",
       "      <td>405786</td>\n",
       "      <td>418689</td>\n",
       "      <td>446224</td>\n",
       "      <td>494565</td>\n",
       "    </tr>\n",
       "    <tr>\n",
       "      <th>4</th>\n",
       "      <td>Aceh Tenggara</td>\n",
       "      <td>221799</td>\n",
       "      <td>250854</td>\n",
       "      <td>340196</td>\n",
       "      <td>357015</td>\n",
       "      <td>392493</td>\n",
       "      <td>404725</td>\n",
       "      <td>430825</td>\n",
       "      <td>471301</td>\n",
       "    </tr>\n",
       "  </tbody>\n",
       "</table>\n",
       "</div>"
      ],
      "text/plain": [
       "    Nama Wilayah    2016    2017    2018    2019    2020    2021    2022  \\\n",
       "0           ACEH  410956  435454  464626  486935  522126  541109  579227   \n",
       "1       Simeulue  326563  350622  368068  404739  444754  458896  493303   \n",
       "2   Aceh Singkil  368968  406015  427804  450217  473983  487249  518951   \n",
       "3   Aceh Selatan  304466  332177  351288  369107  405786  418689  446224   \n",
       "4  Aceh Tenggara  221799  250854  340196  357015  392493  404725  430825   \n",
       "\n",
       "     2023  \n",
       "0  627534  \n",
       "1  538693  \n",
       "2  568691  \n",
       "3  494565  \n",
       "4  471301  "
      ]
     },
     "execution_count": 365,
     "metadata": {},
     "output_type": "execute_result"
    }
   ],
   "source": [
    "five.head()"
   ]
  },
  {
   "cell_type": "code",
   "execution_count": 366,
   "id": "e9f42049-de95-4582-9b44-085925413ddb",
   "metadata": {},
   "outputs": [],
   "source": [
    "five.to_csv('Garis Kemiskinan 2016-2023.csv', index=False)"
   ]
  },
  {
   "cell_type": "markdown",
   "id": "fe761ca8-810e-4464-b513-3b5de758a474",
   "metadata": {},
   "source": [
    "# Visualisasi Pertumbuhan dan Penurunan"
   ]
  },
  {
   "cell_type": "code",
   "execution_count": 367,
   "id": "bd23b6b3-ce1b-4687-b4e7-ac7a1b8b0eb7",
   "metadata": {},
   "outputs": [
    {
     "data": {
      "text/html": [
       "<div>\n",
       "<style scoped>\n",
       "    .dataframe tbody tr th:only-of-type {\n",
       "        vertical-align: middle;\n",
       "    }\n",
       "\n",
       "    .dataframe tbody tr th {\n",
       "        vertical-align: top;\n",
       "    }\n",
       "\n",
       "    .dataframe thead th {\n",
       "        text-align: right;\n",
       "    }\n",
       "</style>\n",
       "<table border=\"1\" class=\"dataframe\">\n",
       "  <thead>\n",
       "    <tr style=\"text-align: right;\">\n",
       "      <th></th>\n",
       "      <th>2016</th>\n",
       "      <th>2017</th>\n",
       "      <th>2018</th>\n",
       "      <th>2019</th>\n",
       "      <th>2020</th>\n",
       "      <th>2021</th>\n",
       "      <th>2022</th>\n",
       "      <th>2023</th>\n",
       "    </tr>\n",
       "  </thead>\n",
       "  <tbody>\n",
       "    <tr>\n",
       "      <th>0</th>\n",
       "      <td>194230805</td>\n",
       "      <td>204993280</td>\n",
       "      <td>216955119</td>\n",
       "      <td>228221552</td>\n",
       "      <td>243718673</td>\n",
       "      <td>254213208</td>\n",
       "      <td>270550986</td>\n",
       "      <td>293286632</td>\n",
       "    </tr>\n",
       "  </tbody>\n",
       "</table>\n",
       "</div>"
      ],
      "text/plain": [
       "        2016       2017       2018       2019       2020       2021  \\\n",
       "0  194230805  204993280  216955119  228221552  243718673  254213208   \n",
       "\n",
       "        2022       2023  \n",
       "0  270550986  293286632  "
      ]
     },
     "execution_count": 367,
     "metadata": {},
     "output_type": "execute_result"
    }
   ],
   "source": [
    "# Mengambil total per indo per tahun\n",
    "\n",
    "# Jumlahkan nilai-nilai dalam kolom '2016' per baris dan tambahkan hasilnya ke dalam kolom 'Total'\n",
    "total_2016 = five['2016'].sum()\n",
    "total_2017 = five['2017'].sum()\n",
    "total_2018 = five['2018'].sum()\n",
    "total_2019 = five['2019'].sum()\n",
    "total_2020 = five['2020'].sum()\n",
    "total_2021 = five['2021'].sum()\n",
    "total_2022 = five['2022'].sum()\n",
    "total_2023 = five['2023'].sum()\n",
    "\n",
    "total = pd.DataFrame({\n",
    "    '2016' : [total_2016],\n",
    "    '2017' : [total_2017],\n",
    "    '2018' : [total_2018],\n",
    "    '2019' : [total_2019],\n",
    "    '2020' : [total_2020],\n",
    "    '2021' : [total_2021],\n",
    "    '2022' : [total_2022],\n",
    "    '2023' : [total_2023]\n",
    "})\n",
    "total"
   ]
  },
  {
   "cell_type": "code",
   "execution_count": 368,
   "id": "e5b34a5e-1139-457c-9393-9ef43d687b80",
   "metadata": {},
   "outputs": [
    {
     "data": {
      "text/plain": [
       "Index(['2016', '2017', '2018', '2019', '2020', '2021', '2022', '2023'], dtype='object')"
      ]
     },
     "execution_count": 368,
     "metadata": {},
     "output_type": "execute_result"
    }
   ],
   "source": [
    "total.columns"
   ]
  },
  {
   "cell_type": "code",
   "execution_count": 369,
   "id": "e04f21b4-8cb8-409a-8058-b7852292da91",
   "metadata": {},
   "outputs": [
    {
     "data": {
      "application/vnd.plotly.v1+json": {
       "config": {
        "plotlyServerURL": "https://plot.ly"
       },
       "data": [
        {
         "alignmentgroup": "True",
         "hovertemplate": "Tahun=%{x}<br>Total Nilai=%{y}<extra></extra>",
         "legendgroup": "",
         "marker": {
          "color": "#636efa",
          "pattern": {
           "shape": ""
          }
         },
         "name": "",
         "offsetgroup": "",
         "orientation": "v",
         "showlegend": false,
         "textposition": "auto",
         "type": "bar",
         "x": [
          "2016",
          "2017",
          "2018",
          "2019",
          "2020",
          "2021",
          "2022",
          "2023"
         ],
         "xaxis": "x",
         "y": [
          194230805,
          204993280,
          216955119,
          228221552,
          243718673,
          254213208,
          270550986,
          293286632
         ],
         "yaxis": "y"
        }
       ],
       "layout": {
        "autosize": true,
        "barmode": "relative",
        "legend": {
         "tracegroupgap": 0
        },
        "template": {
         "data": {
          "bar": [
           {
            "error_x": {
             "color": "#2a3f5f"
            },
            "error_y": {
             "color": "#2a3f5f"
            },
            "marker": {
             "line": {
              "color": "#E5ECF6",
              "width": 0.5
             },
             "pattern": {
              "fillmode": "overlay",
              "size": 10,
              "solidity": 0.2
             }
            },
            "type": "bar"
           }
          ],
          "barpolar": [
           {
            "marker": {
             "line": {
              "color": "#E5ECF6",
              "width": 0.5
             },
             "pattern": {
              "fillmode": "overlay",
              "size": 10,
              "solidity": 0.2
             }
            },
            "type": "barpolar"
           }
          ],
          "carpet": [
           {
            "aaxis": {
             "endlinecolor": "#2a3f5f",
             "gridcolor": "white",
             "linecolor": "white",
             "minorgridcolor": "white",
             "startlinecolor": "#2a3f5f"
            },
            "baxis": {
             "endlinecolor": "#2a3f5f",
             "gridcolor": "white",
             "linecolor": "white",
             "minorgridcolor": "white",
             "startlinecolor": "#2a3f5f"
            },
            "type": "carpet"
           }
          ],
          "choropleth": [
           {
            "colorbar": {
             "outlinewidth": 0,
             "ticks": ""
            },
            "type": "choropleth"
           }
          ],
          "contour": [
           {
            "colorbar": {
             "outlinewidth": 0,
             "ticks": ""
            },
            "colorscale": [
             [
              0,
              "#0d0887"
             ],
             [
              0.1111111111111111,
              "#46039f"
             ],
             [
              0.2222222222222222,
              "#7201a8"
             ],
             [
              0.3333333333333333,
              "#9c179e"
             ],
             [
              0.4444444444444444,
              "#bd3786"
             ],
             [
              0.5555555555555556,
              "#d8576b"
             ],
             [
              0.6666666666666666,
              "#ed7953"
             ],
             [
              0.7777777777777778,
              "#fb9f3a"
             ],
             [
              0.8888888888888888,
              "#fdca26"
             ],
             [
              1,
              "#f0f921"
             ]
            ],
            "type": "contour"
           }
          ],
          "contourcarpet": [
           {
            "colorbar": {
             "outlinewidth": 0,
             "ticks": ""
            },
            "type": "contourcarpet"
           }
          ],
          "heatmap": [
           {
            "colorbar": {
             "outlinewidth": 0,
             "ticks": ""
            },
            "colorscale": [
             [
              0,
              "#0d0887"
             ],
             [
              0.1111111111111111,
              "#46039f"
             ],
             [
              0.2222222222222222,
              "#7201a8"
             ],
             [
              0.3333333333333333,
              "#9c179e"
             ],
             [
              0.4444444444444444,
              "#bd3786"
             ],
             [
              0.5555555555555556,
              "#d8576b"
             ],
             [
              0.6666666666666666,
              "#ed7953"
             ],
             [
              0.7777777777777778,
              "#fb9f3a"
             ],
             [
              0.8888888888888888,
              "#fdca26"
             ],
             [
              1,
              "#f0f921"
             ]
            ],
            "type": "heatmap"
           }
          ],
          "heatmapgl": [
           {
            "colorbar": {
             "outlinewidth": 0,
             "ticks": ""
            },
            "colorscale": [
             [
              0,
              "#0d0887"
             ],
             [
              0.1111111111111111,
              "#46039f"
             ],
             [
              0.2222222222222222,
              "#7201a8"
             ],
             [
              0.3333333333333333,
              "#9c179e"
             ],
             [
              0.4444444444444444,
              "#bd3786"
             ],
             [
              0.5555555555555556,
              "#d8576b"
             ],
             [
              0.6666666666666666,
              "#ed7953"
             ],
             [
              0.7777777777777778,
              "#fb9f3a"
             ],
             [
              0.8888888888888888,
              "#fdca26"
             ],
             [
              1,
              "#f0f921"
             ]
            ],
            "type": "heatmapgl"
           }
          ],
          "histogram": [
           {
            "marker": {
             "pattern": {
              "fillmode": "overlay",
              "size": 10,
              "solidity": 0.2
             }
            },
            "type": "histogram"
           }
          ],
          "histogram2d": [
           {
            "colorbar": {
             "outlinewidth": 0,
             "ticks": ""
            },
            "colorscale": [
             [
              0,
              "#0d0887"
             ],
             [
              0.1111111111111111,
              "#46039f"
             ],
             [
              0.2222222222222222,
              "#7201a8"
             ],
             [
              0.3333333333333333,
              "#9c179e"
             ],
             [
              0.4444444444444444,
              "#bd3786"
             ],
             [
              0.5555555555555556,
              "#d8576b"
             ],
             [
              0.6666666666666666,
              "#ed7953"
             ],
             [
              0.7777777777777778,
              "#fb9f3a"
             ],
             [
              0.8888888888888888,
              "#fdca26"
             ],
             [
              1,
              "#f0f921"
             ]
            ],
            "type": "histogram2d"
           }
          ],
          "histogram2dcontour": [
           {
            "colorbar": {
             "outlinewidth": 0,
             "ticks": ""
            },
            "colorscale": [
             [
              0,
              "#0d0887"
             ],
             [
              0.1111111111111111,
              "#46039f"
             ],
             [
              0.2222222222222222,
              "#7201a8"
             ],
             [
              0.3333333333333333,
              "#9c179e"
             ],
             [
              0.4444444444444444,
              "#bd3786"
             ],
             [
              0.5555555555555556,
              "#d8576b"
             ],
             [
              0.6666666666666666,
              "#ed7953"
             ],
             [
              0.7777777777777778,
              "#fb9f3a"
             ],
             [
              0.8888888888888888,
              "#fdca26"
             ],
             [
              1,
              "#f0f921"
             ]
            ],
            "type": "histogram2dcontour"
           }
          ],
          "mesh3d": [
           {
            "colorbar": {
             "outlinewidth": 0,
             "ticks": ""
            },
            "type": "mesh3d"
           }
          ],
          "parcoords": [
           {
            "line": {
             "colorbar": {
              "outlinewidth": 0,
              "ticks": ""
             }
            },
            "type": "parcoords"
           }
          ],
          "pie": [
           {
            "automargin": true,
            "type": "pie"
           }
          ],
          "scatter": [
           {
            "fillpattern": {
             "fillmode": "overlay",
             "size": 10,
             "solidity": 0.2
            },
            "type": "scatter"
           }
          ],
          "scatter3d": [
           {
            "line": {
             "colorbar": {
              "outlinewidth": 0,
              "ticks": ""
             }
            },
            "marker": {
             "colorbar": {
              "outlinewidth": 0,
              "ticks": ""
             }
            },
            "type": "scatter3d"
           }
          ],
          "scattercarpet": [
           {
            "marker": {
             "colorbar": {
              "outlinewidth": 0,
              "ticks": ""
             }
            },
            "type": "scattercarpet"
           }
          ],
          "scattergeo": [
           {
            "marker": {
             "colorbar": {
              "outlinewidth": 0,
              "ticks": ""
             }
            },
            "type": "scattergeo"
           }
          ],
          "scattergl": [
           {
            "marker": {
             "colorbar": {
              "outlinewidth": 0,
              "ticks": ""
             }
            },
            "type": "scattergl"
           }
          ],
          "scattermapbox": [
           {
            "marker": {
             "colorbar": {
              "outlinewidth": 0,
              "ticks": ""
             }
            },
            "type": "scattermapbox"
           }
          ],
          "scatterpolar": [
           {
            "marker": {
             "colorbar": {
              "outlinewidth": 0,
              "ticks": ""
             }
            },
            "type": "scatterpolar"
           }
          ],
          "scatterpolargl": [
           {
            "marker": {
             "colorbar": {
              "outlinewidth": 0,
              "ticks": ""
             }
            },
            "type": "scatterpolargl"
           }
          ],
          "scatterternary": [
           {
            "marker": {
             "colorbar": {
              "outlinewidth": 0,
              "ticks": ""
             }
            },
            "type": "scatterternary"
           }
          ],
          "surface": [
           {
            "colorbar": {
             "outlinewidth": 0,
             "ticks": ""
            },
            "colorscale": [
             [
              0,
              "#0d0887"
             ],
             [
              0.1111111111111111,
              "#46039f"
             ],
             [
              0.2222222222222222,
              "#7201a8"
             ],
             [
              0.3333333333333333,
              "#9c179e"
             ],
             [
              0.4444444444444444,
              "#bd3786"
             ],
             [
              0.5555555555555556,
              "#d8576b"
             ],
             [
              0.6666666666666666,
              "#ed7953"
             ],
             [
              0.7777777777777778,
              "#fb9f3a"
             ],
             [
              0.8888888888888888,
              "#fdca26"
             ],
             [
              1,
              "#f0f921"
             ]
            ],
            "type": "surface"
           }
          ],
          "table": [
           {
            "cells": {
             "fill": {
              "color": "#EBF0F8"
             },
             "line": {
              "color": "white"
             }
            },
            "header": {
             "fill": {
              "color": "#C8D4E3"
             },
             "line": {
              "color": "white"
             }
            },
            "type": "table"
           }
          ]
         },
         "layout": {
          "annotationdefaults": {
           "arrowcolor": "#2a3f5f",
           "arrowhead": 0,
           "arrowwidth": 1
          },
          "autotypenumbers": "strict",
          "coloraxis": {
           "colorbar": {
            "outlinewidth": 0,
            "ticks": ""
           }
          },
          "colorscale": {
           "diverging": [
            [
             0,
             "#8e0152"
            ],
            [
             0.1,
             "#c51b7d"
            ],
            [
             0.2,
             "#de77ae"
            ],
            [
             0.3,
             "#f1b6da"
            ],
            [
             0.4,
             "#fde0ef"
            ],
            [
             0.5,
             "#f7f7f7"
            ],
            [
             0.6,
             "#e6f5d0"
            ],
            [
             0.7,
             "#b8e186"
            ],
            [
             0.8,
             "#7fbc41"
            ],
            [
             0.9,
             "#4d9221"
            ],
            [
             1,
             "#276419"
            ]
           ],
           "sequential": [
            [
             0,
             "#0d0887"
            ],
            [
             0.1111111111111111,
             "#46039f"
            ],
            [
             0.2222222222222222,
             "#7201a8"
            ],
            [
             0.3333333333333333,
             "#9c179e"
            ],
            [
             0.4444444444444444,
             "#bd3786"
            ],
            [
             0.5555555555555556,
             "#d8576b"
            ],
            [
             0.6666666666666666,
             "#ed7953"
            ],
            [
             0.7777777777777778,
             "#fb9f3a"
            ],
            [
             0.8888888888888888,
             "#fdca26"
            ],
            [
             1,
             "#f0f921"
            ]
           ],
           "sequentialminus": [
            [
             0,
             "#0d0887"
            ],
            [
             0.1111111111111111,
             "#46039f"
            ],
            [
             0.2222222222222222,
             "#7201a8"
            ],
            [
             0.3333333333333333,
             "#9c179e"
            ],
            [
             0.4444444444444444,
             "#bd3786"
            ],
            [
             0.5555555555555556,
             "#d8576b"
            ],
            [
             0.6666666666666666,
             "#ed7953"
            ],
            [
             0.7777777777777778,
             "#fb9f3a"
            ],
            [
             0.8888888888888888,
             "#fdca26"
            ],
            [
             1,
             "#f0f921"
            ]
           ]
          },
          "colorway": [
           "#636efa",
           "#EF553B",
           "#00cc96",
           "#ab63fa",
           "#FFA15A",
           "#19d3f3",
           "#FF6692",
           "#B6E880",
           "#FF97FF",
           "#FECB52"
          ],
          "font": {
           "color": "#2a3f5f"
          },
          "geo": {
           "bgcolor": "white",
           "lakecolor": "white",
           "landcolor": "#E5ECF6",
           "showlakes": true,
           "showland": true,
           "subunitcolor": "white"
          },
          "hoverlabel": {
           "align": "left"
          },
          "hovermode": "closest",
          "mapbox": {
           "style": "light"
          },
          "paper_bgcolor": "white",
          "plot_bgcolor": "#E5ECF6",
          "polar": {
           "angularaxis": {
            "gridcolor": "white",
            "linecolor": "white",
            "ticks": ""
           },
           "bgcolor": "#E5ECF6",
           "radialaxis": {
            "gridcolor": "white",
            "linecolor": "white",
            "ticks": ""
           }
          },
          "scene": {
           "xaxis": {
            "backgroundcolor": "#E5ECF6",
            "gridcolor": "white",
            "gridwidth": 2,
            "linecolor": "white",
            "showbackground": true,
            "ticks": "",
            "zerolinecolor": "white"
           },
           "yaxis": {
            "backgroundcolor": "#E5ECF6",
            "gridcolor": "white",
            "gridwidth": 2,
            "linecolor": "white",
            "showbackground": true,
            "ticks": "",
            "zerolinecolor": "white"
           },
           "zaxis": {
            "backgroundcolor": "#E5ECF6",
            "gridcolor": "white",
            "gridwidth": 2,
            "linecolor": "white",
            "showbackground": true,
            "ticks": "",
            "zerolinecolor": "white"
           }
          },
          "shapedefaults": {
           "line": {
            "color": "#2a3f5f"
           }
          },
          "ternary": {
           "aaxis": {
            "gridcolor": "white",
            "linecolor": "white",
            "ticks": ""
           },
           "baxis": {
            "gridcolor": "white",
            "linecolor": "white",
            "ticks": ""
           },
           "bgcolor": "#E5ECF6",
           "caxis": {
            "gridcolor": "white",
            "linecolor": "white",
            "ticks": ""
           }
          },
          "title": {
           "x": 0.05
          },
          "xaxis": {
           "automargin": true,
           "gridcolor": "white",
           "linecolor": "white",
           "ticks": "",
           "title": {
            "standoff": 15
           },
           "zerolinecolor": "white",
           "zerolinewidth": 2
          },
          "yaxis": {
           "automargin": true,
           "gridcolor": "white",
           "linecolor": "white",
           "ticks": "",
           "title": {
            "standoff": 15
           },
           "zerolinecolor": "white",
           "zerolinewidth": 2
          }
         }
        },
        "title": {
         "text": "Visualisasi Pertumbuhan Tahunan"
        },
        "xaxis": {
         "anchor": "y",
         "autorange": true,
         "domain": [
          0,
          1
         ],
         "range": [
          -0.5,
          7.5
         ],
         "title": {
          "text": "Tahun"
         },
         "type": "category"
        },
        "yaxis": {
         "anchor": "x",
         "autorange": true,
         "domain": [
          0,
          1
         ],
         "range": [
          0,
          308722770.5263158
         ],
         "title": {
          "text": "Total Nilai"
         },
         "type": "linear"
        }
       }
      },
      "image/png": "[encoded data removed]",
      "text/html": [
       "<div>                            <div id=\"f2e829cf-348b-40ec-bcb1-02f51bd0b7fb\" class=\"plotly-graph-div\" style=\"height:525px; width:100%;\"></div>            <script type=\"text/javascript\">                require([\"plotly\"], function(Plotly) {                    window.PLOTLYENV=window.PLOTLYENV || {};                                    if (document.getElementById(\"f2e829cf-348b-40ec-bcb1-02f51bd0b7fb\")) {                    Plotly.newPlot(                        \"f2e829cf-348b-40ec-bcb1-02f51bd0b7fb\",                        [{\"alignmentgroup\":\"True\",\"hovertemplate\":\"Tahun=%{x}\\u003cbr\\u003eTotal Nilai=%{y}\\u003cextra\\u003e\\u003c\\u002fextra\\u003e\",\"legendgroup\":\"\",\"marker\":{\"color\":\"#636efa\",\"pattern\":{\"shape\":\"\"}},\"name\":\"\",\"offsetgroup\":\"\",\"orientation\":\"v\",\"showlegend\":false,\"textposition\":\"auto\",\"x\":[\"2016\",\"2017\",\"2018\",\"2019\",\"2020\",\"2021\",\"2022\",\"2023\"],\"xaxis\":\"x\",\"y\":[194230805,204993280,216955119,228221552,243718673,254213208,270550986,293286632],\"yaxis\":\"y\",\"type\":\"bar\"}],                        {\"template\":{\"data\":{\"histogram2dcontour\":[{\"type\":\"histogram2dcontour\",\"colorbar\":{\"outlinewidth\":0,\"ticks\":\"\"},\"colorscale\":[[0.0,\"#0d0887\"],[0.1111111111111111,\"#46039f\"],[0.2222222222222222,\"#7201a8\"],[0.3333333333333333,\"#9c179e\"],[0.4444444444444444,\"#bd3786\"],[0.5555555555555556,\"#d8576b\"],[0.6666666666666666,\"#ed7953\"],[0.7777777777777778,\"#fb9f3a\"],[0.8888888888888888,\"#fdca26\"],[1.0,\"#f0f921\"]]}],\"choropleth\":[{\"type\":\"choropleth\",\"colorbar\":{\"outlinewidth\":0,\"ticks\":\"\"}}],\"histogram2d\":[{\"type\":\"histogram2d\",\"colorbar\":{\"outlinewidth\":0,\"ticks\":\"\"},\"colorscale\":[[0.0,\"#0d0887\"],[0.1111111111111111,\"#46039f\"],[0.2222222222222222,\"#7201a8\"],[0.3333333333333333,\"#9c179e\"],[0.4444444444444444,\"#bd3786\"],[0.5555555555555556,\"#d8576b\"],[0.6666666666666666,\"#ed7953\"],[0.7777777777777778,\"#fb9f3a\"],[0.8888888888888888,\"#fdca26\"],[1.0,\"#f0f921\"]]}],\"heatmap\":[{\"type\":\"heatmap\",\"colorbar\":{\"outlinewidth\":0,\"ticks\":\"\"},\"colorscale\":[[0.0,\"#0d0887\"],[0.1111111111111111,\"#46039f\"],[0.2222222222222222,\"#7201a8\"],[0.3333333333333333,\"#9c179e\"],[0.4444444444444444,\"#bd3786\"],[0.5555555555555556,\"#d8576b\"],[0.6666666666666666,\"#ed7953\"],[0.7777777777777778,\"#fb9f3a\"],[0.8888888888888888,\"#fdca26\"],[1.0,\"#f0f921\"]]}],\"heatmapgl\":[{\"type\":\"heatmapgl\",\"colorbar\":{\"outlinewidth\":0,\"ticks\":\"\"},\"colorscale\":[[0.0,\"#0d0887\"],[0.1111111111111111,\"#46039f\"],[0.2222222222222222,\"#7201a8\"],[0.3333333333333333,\"#9c179e\"],[0.4444444444444444,\"#bd3786\"],[0.5555555555555556,\"#d8576b\"],[0.6666666666666666,\"#ed7953\"],[0.7777777777777778,\"#fb9f3a\"],[0.8888888888888888,\"#fdca26\"],[1.0,\"#f0f921\"]]}],\"contourcarpet\":[{\"type\":\"contourcarpet\",\"colorbar\":{\"outlinewidth\":0,\"ticks\":\"\"}}],\"contour\":[{\"type\":\"contour\",\"colorbar\":{\"outlinewidth\":0,\"ticks\":\"\"},\"colorscale\":[[0.0,\"#0d0887\"],[0.1111111111111111,\"#46039f\"],[0.2222222222222222,\"#7201a8\"],[0.3333333333333333,\"#9c179e\"],[0.4444444444444444,\"#bd3786\"],[0.5555555555555556,\"#d8576b\"],[0.6666666666666666,\"#ed7953\"],[0.7777777777777778,\"#fb9f3a\"],[0.8888888888888888,\"#fdca26\"],[1.0,\"#f0f921\"]]}],\"surface\":[{\"type\":\"surface\",\"colorbar\":{\"outlinewidth\":0,\"ticks\":\"\"},\"colorscale\":[[0.0,\"#0d0887\"],[0.1111111111111111,\"#46039f\"],[0.2222222222222222,\"#7201a8\"],[0.3333333333333333,\"#9c179e\"],[0.4444444444444444,\"#bd3786\"],[0.5555555555555556,\"#d8576b\"],[0.6666666666666666,\"#ed7953\"],[0.7777777777777778,\"#fb9f3a\"],[0.8888888888888888,\"#fdca26\"],[1.0,\"#f0f921\"]]}],\"mesh3d\":[{\"type\":\"mesh3d\",\"colorbar\":{\"outlinewidth\":0,\"ticks\":\"\"}}],\"scatter\":[{\"fillpattern\":{\"fillmode\":\"overlay\",\"size\":10,\"solidity\":0.2},\"type\":\"scatter\"}],\"parcoords\":[{\"type\":\"parcoords\",\"line\":{\"colorbar\":{\"outlinewidth\":0,\"ticks\":\"\"}}}],\"scatterpolargl\":[{\"type\":\"scatterpolargl\",\"marker\":{\"colorbar\":{\"outlinewidth\":0,\"ticks\":\"\"}}}],\"bar\":[{\"error_x\":{\"color\":\"#2a3f5f\"},\"error_y\":{\"color\":\"#2a3f5f\"},\"marker\":{\"line\":{\"color\":\"#E5ECF6\",\"width\":0.5},\"pattern\":{\"fillmode\":\"overlay\",\"size\":10,\"solidity\":0.2}},\"type\":\"bar\"}],\"scattergeo\":[{\"type\":\"scattergeo\",\"marker\":{\"colorbar\":{\"outlinewidth\":0,\"ticks\":\"\"}}}],\"scatterpolar\":[{\"type\":\"scatterpolar\",\"marker\":{\"colorbar\":{\"outlinewidth\":0,\"ticks\":\"\"}}}],\"histogram\":[{\"marker\":{\"pattern\":{\"fillmode\":\"overlay\",\"size\":10,\"solidity\":0.2}},\"type\":\"histogram\"}],\"scattergl\":[{\"type\":\"scattergl\",\"marker\":{\"colorbar\":{\"outlinewidth\":0,\"ticks\":\"\"}}}],\"scatter3d\":[{\"type\":\"scatter3d\",\"line\":{\"colorbar\":{\"outlinewidth\":0,\"ticks\":\"\"}},\"marker\":{\"colorbar\":{\"outlinewidth\":0,\"ticks\":\"\"}}}],\"scattermapbox\":[{\"type\":\"scattermapbox\",\"marker\":{\"colorbar\":{\"outlinewidth\":0,\"ticks\":\"\"}}}],\"scatterternary\":[{\"type\":\"scatterternary\",\"marker\":{\"colorbar\":{\"outlinewidth\":0,\"ticks\":\"\"}}}],\"scattercarpet\":[{\"type\":\"scattercarpet\",\"marker\":{\"colorbar\":{\"outlinewidth\":0,\"ticks\":\"\"}}}],\"carpet\":[{\"aaxis\":{\"endlinecolor\":\"#2a3f5f\",\"gridcolor\":\"white\",\"linecolor\":\"white\",\"minorgridcolor\":\"white\",\"startlinecolor\":\"#2a3f5f\"},\"baxis\":{\"endlinecolor\":\"#2a3f5f\",\"gridcolor\":\"white\",\"linecolor\":\"white\",\"minorgridcolor\":\"white\",\"startlinecolor\":\"#2a3f5f\"},\"type\":\"carpet\"}],\"table\":[{\"cells\":{\"fill\":{\"color\":\"#EBF0F8\"},\"line\":{\"color\":\"white\"}},\"header\":{\"fill\":{\"color\":\"#C8D4E3\"},\"line\":{\"color\":\"white\"}},\"type\":\"table\"}],\"barpolar\":[{\"marker\":{\"line\":{\"color\":\"#E5ECF6\",\"width\":0.5},\"pattern\":{\"fillmode\":\"overlay\",\"size\":10,\"solidity\":0.2}},\"type\":\"barpolar\"}],\"pie\":[{\"automargin\":true,\"type\":\"pie\"}]},\"layout\":{\"autotypenumbers\":\"strict\",\"colorway\":[\"#636efa\",\"#EF553B\",\"#00cc96\",\"#ab63fa\",\"#FFA15A\",\"#19d3f3\",\"#FF6692\",\"#B6E880\",\"#FF97FF\",\"#FECB52\"],\"font\":{\"color\":\"#2a3f5f\"},\"hovermode\":\"closest\",\"hoverlabel\":{\"align\":\"left\"},\"paper_bgcolor\":\"white\",\"plot_bgcolor\":\"#E5ECF6\",\"polar\":{\"bgcolor\":\"#E5ECF6\",\"angularaxis\":{\"gridcolor\":\"white\",\"linecolor\":\"white\",\"ticks\":\"\"},\"radialaxis\":{\"gridcolor\":\"white\",\"linecolor\":\"white\",\"ticks\":\"\"}},\"ternary\":{\"bgcolor\":\"#E5ECF6\",\"aaxis\":{\"gridcolor\":\"white\",\"linecolor\":\"white\",\"ticks\":\"\"},\"baxis\":{\"gridcolor\":\"white\",\"linecolor\":\"white\",\"ticks\":\"\"},\"caxis\":{\"gridcolor\":\"white\",\"linecolor\":\"white\",\"ticks\":\"\"}},\"coloraxis\":{\"colorbar\":{\"outlinewidth\":0,\"ticks\":\"\"}},\"colorscale\":{\"sequential\":[[0.0,\"#0d0887\"],[0.1111111111111111,\"#46039f\"],[0.2222222222222222,\"#7201a8\"],[0.3333333333333333,\"#9c179e\"],[0.4444444444444444,\"#bd3786\"],[0.5555555555555556,\"#d8576b\"],[0.6666666666666666,\"#ed7953\"],[0.7777777777777778,\"#fb9f3a\"],[0.8888888888888888,\"#fdca26\"],[1.0,\"#f0f921\"]],\"sequentialminus\":[[0.0,\"#0d0887\"],[0.1111111111111111,\"#46039f\"],[0.2222222222222222,\"#7201a8\"],[0.3333333333333333,\"#9c179e\"],[0.4444444444444444,\"#bd3786\"],[0.5555555555555556,\"#d8576b\"],[0.6666666666666666,\"#ed7953\"],[0.7777777777777778,\"#fb9f3a\"],[0.8888888888888888,\"#fdca26\"],[1.0,\"#f0f921\"]],\"diverging\":[[0,\"#8e0152\"],[0.1,\"#c51b7d\"],[0.2,\"#de77ae\"],[0.3,\"#f1b6da\"],[0.4,\"#fde0ef\"],[0.5,\"#f7f7f7\"],[0.6,\"#e6f5d0\"],[0.7,\"#b8e186\"],[0.8,\"#7fbc41\"],[0.9,\"#4d9221\"],[1,\"#276419\"]]},\"xaxis\":{\"gridcolor\":\"white\",\"linecolor\":\"white\",\"ticks\":\"\",\"title\":{\"standoff\":15},\"zerolinecolor\":\"white\",\"automargin\":true,\"zerolinewidth\":2},\"yaxis\":{\"gridcolor\":\"white\",\"linecolor\":\"white\",\"ticks\":\"\",\"title\":{\"standoff\":15},\"zerolinecolor\":\"white\",\"automargin\":true,\"zerolinewidth\":2},\"scene\":{\"xaxis\":{\"backgroundcolor\":\"#E5ECF6\",\"gridcolor\":\"white\",\"linecolor\":\"white\",\"showbackground\":true,\"ticks\":\"\",\"zerolinecolor\":\"white\",\"gridwidth\":2},\"yaxis\":{\"backgroundcolor\":\"#E5ECF6\",\"gridcolor\":\"white\",\"linecolor\":\"white\",\"showbackground\":true,\"ticks\":\"\",\"zerolinecolor\":\"white\",\"gridwidth\":2},\"zaxis\":{\"backgroundcolor\":\"#E5ECF6\",\"gridcolor\":\"white\",\"linecolor\":\"white\",\"showbackground\":true,\"ticks\":\"\",\"zerolinecolor\":\"white\",\"gridwidth\":2}},\"shapedefaults\":{\"line\":{\"color\":\"#2a3f5f\"}},\"annotationdefaults\":{\"arrowcolor\":\"#2a3f5f\",\"arrowhead\":0,\"arrowwidth\":1},\"geo\":{\"bgcolor\":\"white\",\"landcolor\":\"#E5ECF6\",\"subunitcolor\":\"white\",\"showland\":true,\"showlakes\":true,\"lakecolor\":\"white\"},\"title\":{\"x\":0.05},\"mapbox\":{\"style\":\"light\"}}},\"xaxis\":{\"anchor\":\"y\",\"domain\":[0.0,1.0],\"title\":{\"text\":\"Tahun\"}},\"yaxis\":{\"anchor\":\"x\",\"domain\":[0.0,1.0],\"title\":{\"text\":\"Total Nilai\"}},\"legend\":{\"tracegroupgap\":0},\"title\":{\"text\":\"Visualisasi Pertumbuhan Tahunan\"},\"barmode\":\"relative\"},                        {\"responsive\": true}                    ).then(function(){\n",
       "                            \n",
       "var gd = document.getElementById('f2e829cf-348b-40ec-bcb1-02f51bd0b7fb');\n",
       "var x = new MutationObserver(function (mutations, observer) {{\n",
       "        var display = window.getComputedStyle(gd).display;\n",
       "        if (!display || display === 'none') {{\n",
       "            console.log([gd, 'removed!']);\n",
       "            Plotly.purge(gd);\n",
       "            observer.disconnect();\n",
       "        }}\n",
       "}});\n",
       "\n",
       "// Listen for the removal of the full notebook cells\n",
       "var notebookContainer = gd.closest('#notebook-container');\n",
       "if (notebookContainer) {{\n",
       "    x.observe(notebookContainer, {childList: true});\n",
       "}}\n",
       "\n",
       "// Listen for the clearing of the current output cell\n",
       "var outputEl = gd.closest('.output');\n",
       "if (outputEl) {{\n",
       "    x.observe(outputEl, {childList: true});\n",
       "}}\n",
       "\n",
       "                        })                };                });            </script>        </div>"
      ]
     },
     "metadata": {},
     "output_type": "display_data"
    }
   ],
   "source": [
    "import plotly.express as px\n",
    "\n",
    "# Mengubah DataFrame total ke dalam format yang sesuai untuk plot\n",
    "df_plot = total.transpose().reset_index()\n",
    "df_plot.columns = ['Tahun', 'Total Nilai']\n",
    "\n",
    "# Membuat barplot untuk visualisasi pertumbuhan dari DataFrame 'total'\n",
    "fig = px.bar(df_plot, x='Tahun', y='Total Nilai', \n",
    "             labels={'x': 'Tahun', 'y': 'Total Nilai'},\n",
    "             title='Visualisasi Pertumbuhan Tahunan')\n",
    "\n",
    "# Menampilkan grafik\n",
    "fig.show()\n"
   ]
  },
  {
   "cell_type": "code",
   "execution_count": 370,
   "id": "fa14a3cf-ab21-4e3d-bf05-8c241c9cfcd9",
   "metadata": {
    "scrolled": true
   },
   "outputs": [
    {
     "data": {
      "text/html": [
       "<div>\n",
       "<style scoped>\n",
       "    .dataframe tbody tr th:only-of-type {\n",
       "        vertical-align: middle;\n",
       "    }\n",
       "\n",
       "    .dataframe tbody tr th {\n",
       "        vertical-align: top;\n",
       "    }\n",
       "\n",
       "    .dataframe thead th {\n",
       "        text-align: right;\n",
       "    }\n",
       "</style>\n",
       "<table border=\"1\" class=\"dataframe\">\n",
       "  <thead>\n",
       "    <tr style=\"text-align: right;\">\n",
       "      <th></th>\n",
       "      <th>Nama Wilayah</th>\n",
       "      <th>2016</th>\n",
       "      <th>2017</th>\n",
       "      <th>2018</th>\n",
       "      <th>2019</th>\n",
       "      <th>2020</th>\n",
       "      <th>2021</th>\n",
       "      <th>2022</th>\n",
       "      <th>2023</th>\n",
       "    </tr>\n",
       "  </thead>\n",
       "  <tbody>\n",
       "    <tr>\n",
       "      <th>0</th>\n",
       "      <td>ACEH</td>\n",
       "      <td>410956</td>\n",
       "      <td>435454</td>\n",
       "      <td>464626</td>\n",
       "      <td>486935</td>\n",
       "      <td>522126</td>\n",
       "      <td>541109</td>\n",
       "      <td>579227</td>\n",
       "      <td>627534</td>\n",
       "    </tr>\n",
       "    <tr>\n",
       "      <th>1</th>\n",
       "      <td>Simeulue</td>\n",
       "      <td>326563</td>\n",
       "      <td>350622</td>\n",
       "      <td>368068</td>\n",
       "      <td>404739</td>\n",
       "      <td>444754</td>\n",
       "      <td>458896</td>\n",
       "      <td>493303</td>\n",
       "      <td>538693</td>\n",
       "    </tr>\n",
       "    <tr>\n",
       "      <th>2</th>\n",
       "      <td>Aceh Singkil</td>\n",
       "      <td>368968</td>\n",
       "      <td>406015</td>\n",
       "      <td>427804</td>\n",
       "      <td>450217</td>\n",
       "      <td>473983</td>\n",
       "      <td>487249</td>\n",
       "      <td>518951</td>\n",
       "      <td>568691</td>\n",
       "    </tr>\n",
       "    <tr>\n",
       "      <th>3</th>\n",
       "      <td>Aceh Selatan</td>\n",
       "      <td>304466</td>\n",
       "      <td>332177</td>\n",
       "      <td>351288</td>\n",
       "      <td>369107</td>\n",
       "      <td>405786</td>\n",
       "      <td>418689</td>\n",
       "      <td>446224</td>\n",
       "      <td>494565</td>\n",
       "    </tr>\n",
       "    <tr>\n",
       "      <th>4</th>\n",
       "      <td>Aceh Tenggara</td>\n",
       "      <td>221799</td>\n",
       "      <td>250854</td>\n",
       "      <td>340196</td>\n",
       "      <td>357015</td>\n",
       "      <td>392493</td>\n",
       "      <td>404725</td>\n",
       "      <td>430825</td>\n",
       "      <td>471301</td>\n",
       "    </tr>\n",
       "    <tr>\n",
       "      <th>5</th>\n",
       "      <td>Aceh Timur</td>\n",
       "      <td>350186</td>\n",
       "      <td>369911</td>\n",
       "      <td>398493</td>\n",
       "      <td>417715</td>\n",
       "      <td>440455</td>\n",
       "      <td>460422</td>\n",
       "      <td>491550</td>\n",
       "      <td>530934</td>\n",
       "    </tr>\n",
       "    <tr>\n",
       "      <th>6</th>\n",
       "      <td>Aceh Tengah</td>\n",
       "      <td>397859</td>\n",
       "      <td>427170</td>\n",
       "      <td>445250</td>\n",
       "      <td>468577</td>\n",
       "      <td>492227</td>\n",
       "      <td>505933</td>\n",
       "      <td>533810</td>\n",
       "      <td>584863</td>\n",
       "    </tr>\n",
       "    <tr>\n",
       "      <th>7</th>\n",
       "      <td>Aceh Barat</td>\n",
       "      <td>441909</td>\n",
       "      <td>446614</td>\n",
       "      <td>447089</td>\n",
       "      <td>471058</td>\n",
       "      <td>517264</td>\n",
       "      <td>533712</td>\n",
       "      <td>558638</td>\n",
       "      <td>616091</td>\n",
       "    </tr>\n",
       "    <tr>\n",
       "      <th>8</th>\n",
       "      <td>Aceh Besar</td>\n",
       "      <td>384545</td>\n",
       "      <td>398752</td>\n",
       "      <td>422051</td>\n",
       "      <td>447563</td>\n",
       "      <td>477938</td>\n",
       "      <td>489498</td>\n",
       "      <td>519320</td>\n",
       "      <td>564431</td>\n",
       "    </tr>\n",
       "    <tr>\n",
       "      <th>9</th>\n",
       "      <td>Pidie</td>\n",
       "      <td>393370</td>\n",
       "      <td>408150</td>\n",
       "      <td>435873</td>\n",
       "      <td>462059</td>\n",
       "      <td>493145</td>\n",
       "      <td>504452</td>\n",
       "      <td>535713</td>\n",
       "      <td>579450</td>\n",
       "    </tr>\n",
       "    <tr>\n",
       "      <th>10</th>\n",
       "      <td>Bireuen</td>\n",
       "      <td>317562</td>\n",
       "      <td>335314</td>\n",
       "      <td>358399</td>\n",
       "      <td>393198</td>\n",
       "      <td>410203</td>\n",
       "      <td>422685</td>\n",
       "      <td>451163</td>\n",
       "      <td>486667</td>\n",
       "    </tr>\n",
       "    <tr>\n",
       "      <th>11</th>\n",
       "      <td>Aceh Utara</td>\n",
       "      <td>301733</td>\n",
       "      <td>318729</td>\n",
       "      <td>340086</td>\n",
       "      <td>353856</td>\n",
       "      <td>375394</td>\n",
       "      <td>392412</td>\n",
       "      <td>420615</td>\n",
       "      <td>454361</td>\n",
       "    </tr>\n",
       "    <tr>\n",
       "      <th>12</th>\n",
       "      <td>Aceh Barat Daya</td>\n",
       "      <td>306930</td>\n",
       "      <td>329543</td>\n",
       "      <td>340903</td>\n",
       "      <td>358059</td>\n",
       "      <td>393640</td>\n",
       "      <td>406157</td>\n",
       "      <td>430297</td>\n",
       "      <td>474127</td>\n",
       "    </tr>\n",
       "    <tr>\n",
       "      <th>13</th>\n",
       "      <td>Gayo Lues</td>\n",
       "      <td>301546</td>\n",
       "      <td>323482</td>\n",
       "      <td>368583</td>\n",
       "      <td>387893</td>\n",
       "      <td>425529</td>\n",
       "      <td>438689</td>\n",
       "      <td>470221</td>\n",
       "      <td>514836</td>\n",
       "    </tr>\n",
       "    <tr>\n",
       "      <th>14</th>\n",
       "      <td>Aceh Tamiang</td>\n",
       "      <td>368691</td>\n",
       "      <td>389459</td>\n",
       "      <td>420841</td>\n",
       "      <td>437991</td>\n",
       "      <td>459387</td>\n",
       "      <td>479801</td>\n",
       "      <td>508599</td>\n",
       "      <td>555387</td>\n",
       "    </tr>\n",
       "    <tr>\n",
       "      <th>15</th>\n",
       "      <td>Nagan Raya</td>\n",
       "      <td>374236</td>\n",
       "      <td>400811</td>\n",
       "      <td>426827</td>\n",
       "      <td>446144</td>\n",
       "      <td>493121</td>\n",
       "      <td>508801</td>\n",
       "      <td>544300</td>\n",
       "      <td>594374</td>\n",
       "    </tr>\n",
       "    <tr>\n",
       "      <th>16</th>\n",
       "      <td>Aceh Jaya</td>\n",
       "      <td>331940</td>\n",
       "      <td>356060</td>\n",
       "      <td>373690</td>\n",
       "      <td>391677</td>\n",
       "      <td>428094</td>\n",
       "      <td>441706</td>\n",
       "      <td>468854</td>\n",
       "      <td>515244</td>\n",
       "    </tr>\n",
       "    <tr>\n",
       "      <th>17</th>\n",
       "      <td>Bener Meriah</td>\n",
       "      <td>363796</td>\n",
       "      <td>383289</td>\n",
       "      <td>413208</td>\n",
       "      <td>431643</td>\n",
       "      <td>457916</td>\n",
       "      <td>476074</td>\n",
       "      <td>512111</td>\n",
       "      <td>551868</td>\n",
       "    </tr>\n",
       "    <tr>\n",
       "      <th>18</th>\n",
       "      <td>Pidie Jaya</td>\n",
       "      <td>399377</td>\n",
       "      <td>429966</td>\n",
       "      <td>448201</td>\n",
       "      <td>455995</td>\n",
       "      <td>481308</td>\n",
       "      <td>495254</td>\n",
       "      <td>523239</td>\n",
       "      <td>572452</td>\n",
       "    </tr>\n",
       "    <tr>\n",
       "      <th>19</th>\n",
       "      <td>Kota Banda Aceh</td>\n",
       "      <td>541732</td>\n",
       "      <td>572295</td>\n",
       "      <td>607391</td>\n",
       "      <td>628493</td>\n",
       "      <td>674977</td>\n",
       "      <td>698617</td>\n",
       "      <td>737016</td>\n",
       "      <td>814530</td>\n",
       "    </tr>\n",
       "    <tr>\n",
       "      <th>20</th>\n",
       "      <td>Kota Sabang</td>\n",
       "      <td>492787</td>\n",
       "      <td>523705</td>\n",
       "      <td>552272</td>\n",
       "      <td>563100</td>\n",
       "      <td>599381</td>\n",
       "      <td>620373</td>\n",
       "      <td>660573</td>\n",
       "      <td>715446</td>\n",
       "    </tr>\n",
       "    <tr>\n",
       "      <th>21</th>\n",
       "      <td>Kota Langsa</td>\n",
       "      <td>323246</td>\n",
       "      <td>347056</td>\n",
       "      <td>371267</td>\n",
       "      <td>380906</td>\n",
       "      <td>407421</td>\n",
       "      <td>435438</td>\n",
       "      <td>469348</td>\n",
       "      <td>512319</td>\n",
       "    </tr>\n",
       "    <tr>\n",
       "      <th>22</th>\n",
       "      <td>Kota Lhokseumawe</td>\n",
       "      <td>319988</td>\n",
       "      <td>343558</td>\n",
       "      <td>367525</td>\n",
       "      <td>376832</td>\n",
       "      <td>401158</td>\n",
       "      <td>427045</td>\n",
       "      <td>460583</td>\n",
       "      <td>498431</td>\n",
       "    </tr>\n",
       "    <tr>\n",
       "      <th>23</th>\n",
       "      <td>Kota Subulussalam</td>\n",
       "      <td>250408</td>\n",
       "      <td>273370</td>\n",
       "      <td>315453</td>\n",
       "      <td>351093</td>\n",
       "      <td>400517</td>\n",
       "      <td>418643</td>\n",
       "      <td>444818</td>\n",
       "      <td>487777</td>\n",
       "    </tr>\n",
       "    <tr>\n",
       "      <th>24</th>\n",
       "      <td>SUMATERA UTARA</td>\n",
       "      <td>388156</td>\n",
       "      <td>411345</td>\n",
       "      <td>435970</td>\n",
       "      <td>466122</td>\n",
       "      <td>502904</td>\n",
       "      <td>525756</td>\n",
       "      <td>561004</td>\n",
       "      <td>602999</td>\n",
       "    </tr>\n",
       "    <tr>\n",
       "      <th>25</th>\n",
       "      <td>Nias</td>\n",
       "      <td>330111</td>\n",
       "      <td>346374</td>\n",
       "      <td>353141</td>\n",
       "      <td>361698</td>\n",
       "      <td>405355</td>\n",
       "      <td>428739</td>\n",
       "      <td>454570</td>\n",
       "      <td>485533</td>\n",
       "    </tr>\n",
       "    <tr>\n",
       "      <th>26</th>\n",
       "      <td>Mandailing Natal</td>\n",
       "      <td>304669</td>\n",
       "      <td>319777</td>\n",
       "      <td>336820</td>\n",
       "      <td>356058</td>\n",
       "      <td>400721</td>\n",
       "      <td>423017</td>\n",
       "      <td>450345</td>\n",
       "      <td>487436</td>\n",
       "    </tr>\n",
       "    <tr>\n",
       "      <th>27</th>\n",
       "      <td>Tapanuli Selatan</td>\n",
       "      <td>326321</td>\n",
       "      <td>340065</td>\n",
       "      <td>343407</td>\n",
       "      <td>364798</td>\n",
       "      <td>397363</td>\n",
       "      <td>420431</td>\n",
       "      <td>445612</td>\n",
       "      <td>480834</td>\n",
       "    </tr>\n",
       "    <tr>\n",
       "      <th>28</th>\n",
       "      <td>Tapanuli Tengah</td>\n",
       "      <td>353753</td>\n",
       "      <td>367687</td>\n",
       "      <td>369471</td>\n",
       "      <td>376474</td>\n",
       "      <td>406646</td>\n",
       "      <td>429050</td>\n",
       "      <td>450940</td>\n",
       "      <td>489760</td>\n",
       "    </tr>\n",
       "    <tr>\n",
       "      <th>29</th>\n",
       "      <td>Tapanuli Utara</td>\n",
       "      <td>325606</td>\n",
       "      <td>344644</td>\n",
       "      <td>357464</td>\n",
       "      <td>377948</td>\n",
       "      <td>406813</td>\n",
       "      <td>437428</td>\n",
       "      <td>466316</td>\n",
       "      <td>499881</td>\n",
       "    </tr>\n",
       "  </tbody>\n",
       "</table>\n",
       "</div>"
      ],
      "text/plain": [
       "         Nama Wilayah    2016    2017    2018    2019    2020    2021    2022  \\\n",
       "0                ACEH  410956  435454  464626  486935  522126  541109  579227   \n",
       "1            Simeulue  326563  350622  368068  404739  444754  458896  493303   \n",
       "2        Aceh Singkil  368968  406015  427804  450217  473983  487249  518951   \n",
       "3        Aceh Selatan  304466  332177  351288  369107  405786  418689  446224   \n",
       "4       Aceh Tenggara  221799  250854  340196  357015  392493  404725  430825   \n",
       "5          Aceh Timur  350186  369911  398493  417715  440455  460422  491550   \n",
       "6         Aceh Tengah  397859  427170  445250  468577  492227  505933  533810   \n",
       "7          Aceh Barat  441909  446614  447089  471058  517264  533712  558638   \n",
       "8          Aceh Besar  384545  398752  422051  447563  477938  489498  519320   \n",
       "9               Pidie  393370  408150  435873  462059  493145  504452  535713   \n",
       "10            Bireuen  317562  335314  358399  393198  410203  422685  451163   \n",
       "11         Aceh Utara  301733  318729  340086  353856  375394  392412  420615   \n",
       "12    Aceh Barat Daya  306930  329543  340903  358059  393640  406157  430297   \n",
       "13          Gayo Lues  301546  323482  368583  387893  425529  438689  470221   \n",
       "14       Aceh Tamiang  368691  389459  420841  437991  459387  479801  508599   \n",
       "15         Nagan Raya  374236  400811  426827  446144  493121  508801  544300   \n",
       "16          Aceh Jaya  331940  356060  373690  391677  428094  441706  468854   \n",
       "17       Bener Meriah  363796  383289  413208  431643  457916  476074  512111   \n",
       "18         Pidie Jaya  399377  429966  448201  455995  481308  495254  523239   \n",
       "19    Kota Banda Aceh  541732  572295  607391  628493  674977  698617  737016   \n",
       "20        Kota Sabang  492787  523705  552272  563100  599381  620373  660573   \n",
       "21        Kota Langsa  323246  347056  371267  380906  407421  435438  469348   \n",
       "22   Kota Lhokseumawe  319988  343558  367525  376832  401158  427045  460583   \n",
       "23  Kota Subulussalam  250408  273370  315453  351093  400517  418643  444818   \n",
       "24     SUMATERA UTARA  388156  411345  435970  466122  502904  525756  561004   \n",
       "25               Nias  330111  346374  353141  361698  405355  428739  454570   \n",
       "26   Mandailing Natal  304669  319777  336820  356058  400721  423017  450345   \n",
       "27   Tapanuli Selatan  326321  340065  343407  364798  397363  420431  445612   \n",
       "28    Tapanuli Tengah  353753  367687  369471  376474  406646  429050  450940   \n",
       "29     Tapanuli Utara  325606  344644  357464  377948  406813  437428  466316   \n",
       "\n",
       "      2023  \n",
       "0   627534  \n",
       "1   538693  \n",
       "2   568691  \n",
       "3   494565  \n",
       "4   471301  \n",
       "5   530934  \n",
       "6   584863  \n",
       "7   616091  \n",
       "8   564431  \n",
       "9   579450  \n",
       "10  486667  \n",
       "11  454361  \n",
       "12  474127  \n",
       "13  514836  \n",
       "14  555387  \n",
       "15  594374  \n",
       "16  515244  \n",
       "17  551868  \n",
       "18  572452  \n",
       "19  814530  \n",
       "20  715446  \n",
       "21  512319  \n",
       "22  498431  \n",
       "23  487777  \n",
       "24  602999  \n",
       "25  485533  \n",
       "26  487436  \n",
       "27  480834  \n",
       "28  489760  \n",
       "29  499881  "
      ]
     },
     "execution_count": 370,
     "metadata": {},
     "output_type": "execute_result"
    }
   ],
   "source": [
    "five.head(30)"
   ]
  },
  {
   "cell_type": "code",
   "execution_count": 371,
   "id": "94d56375-fda9-4d5b-9791-43066629cf72",
   "metadata": {},
   "outputs": [],
   "source": [
    "# Load data geometri wilayah Indonesia\n",
    "geo_data = gpd.read_file('BATAS KABUPATEN KOTA DESEMBER 2019 DUKCAPIL.shp')"
   ]
  },
  {
   "cell_type": "code",
   "execution_count": 372,
   "id": "831f07bf-831f-44e4-b1f6-6a42bdd8c727",
   "metadata": {
    "scrolled": true
   },
   "outputs": [],
   "source": [
    "geo_data['KAB_KOTA'] = geo_data['KAB_KOTA'].str.upper()"
   ]
  },
  {
   "cell_type": "code",
   "execution_count": 373,
   "id": "ead29e35-9ae9-44f2-817a-7b788da54e1c",
   "metadata": {},
   "outputs": [
    {
     "data": {
      "text/html": [
       "<div>\n",
       "<style scoped>\n",
       "    .dataframe tbody tr th:only-of-type {\n",
       "        vertical-align: middle;\n",
       "    }\n",
       "\n",
       "    .dataframe tbody tr th {\n",
       "        vertical-align: top;\n",
       "    }\n",
       "\n",
       "    .dataframe thead th {\n",
       "        text-align: right;\n",
       "    }\n",
       "</style>\n",
       "<table border=\"1\" class=\"dataframe\">\n",
       "  <thead>\n",
       "    <tr style=\"text-align: right;\">\n",
       "      <th></th>\n",
       "      <th>KAB_KOTA</th>\n",
       "      <th>geometry</th>\n",
       "    </tr>\n",
       "  </thead>\n",
       "  <tbody>\n",
       "    <tr>\n",
       "      <th>0</th>\n",
       "      <td>ACEH</td>\n",
       "      <td>MULTIPOLYGON (((116.20336 -8.75440, 116.20314 ...</td>\n",
       "    </tr>\n",
       "    <tr>\n",
       "      <th>1</th>\n",
       "      <td>ACEH BARAT</td>\n",
       "      <td>POLYGON ((96.11425 4.14761, 96.11439 4.14799, ...</td>\n",
       "    </tr>\n",
       "    <tr>\n",
       "      <th>2</th>\n",
       "      <td>ACEH BARAT DAYA</td>\n",
       "      <td>MULTIPOLYGON (((96.80559 3.71758, 96.80444 3.7...</td>\n",
       "    </tr>\n",
       "    <tr>\n",
       "      <th>3</th>\n",
       "      <td>ACEH BESAR</td>\n",
       "      <td>MULTIPOLYGON (((95.20544 5.28072, 95.20563 5.2...</td>\n",
       "    </tr>\n",
       "    <tr>\n",
       "      <th>4</th>\n",
       "      <td>ACEH JAYA</td>\n",
       "      <td>MULTIPOLYGON (((95.58431 4.61495, 95.58379 4.6...</td>\n",
       "    </tr>\n",
       "    <tr>\n",
       "      <th>...</th>\n",
       "      <td>...</td>\n",
       "      <td>...</td>\n",
       "    </tr>\n",
       "    <tr>\n",
       "      <th>510</th>\n",
       "      <td>WAY KANAN</td>\n",
       "      <td>MULTIPOLYGON (((105.27466 -5.15933, 105.27486 ...</td>\n",
       "    </tr>\n",
       "    <tr>\n",
       "      <th>511</th>\n",
       "      <td>WONOGIRI</td>\n",
       "      <td>POLYGON ((111.18203 -7.71237, 111.18242 -7.712...</td>\n",
       "    </tr>\n",
       "    <tr>\n",
       "      <th>512</th>\n",
       "      <td>WONOSOBO</td>\n",
       "      <td>POLYGON ((109.93000 -7.19465, 109.93017 -7.194...</td>\n",
       "    </tr>\n",
       "    <tr>\n",
       "      <th>513</th>\n",
       "      <td>YAHUKIMO</td>\n",
       "      <td>POLYGON ((139.96223 -3.60980, 139.96314 -3.609...</td>\n",
       "    </tr>\n",
       "    <tr>\n",
       "      <th>514</th>\n",
       "      <td>YALIMO</td>\n",
       "      <td>MULTIPOLYGON (((139.47430 -3.51888, 139.47701 ...</td>\n",
       "    </tr>\n",
       "  </tbody>\n",
       "</table>\n",
       "<p>515 rows × 2 columns</p>\n",
       "</div>"
      ],
      "text/plain": [
       "            KAB_KOTA                                           geometry\n",
       "0               ACEH  MULTIPOLYGON (((116.20336 -8.75440, 116.20314 ...\n",
       "1         ACEH BARAT  POLYGON ((96.11425 4.14761, 96.11439 4.14799, ...\n",
       "2    ACEH BARAT DAYA  MULTIPOLYGON (((96.80559 3.71758, 96.80444 3.7...\n",
       "3         ACEH BESAR  MULTIPOLYGON (((95.20544 5.28072, 95.20563 5.2...\n",
       "4          ACEH JAYA  MULTIPOLYGON (((95.58431 4.61495, 95.58379 4.6...\n",
       "..               ...                                                ...\n",
       "510        WAY KANAN  MULTIPOLYGON (((105.27466 -5.15933, 105.27486 ...\n",
       "511         WONOGIRI  POLYGON ((111.18203 -7.71237, 111.18242 -7.712...\n",
       "512         WONOSOBO  POLYGON ((109.93000 -7.19465, 109.93017 -7.194...\n",
       "513         YAHUKIMO  POLYGON ((139.96223 -3.60980, 139.96314 -3.609...\n",
       "514           YALIMO  MULTIPOLYGON (((139.47430 -3.51888, 139.47701 ...\n",
       "\n",
       "[515 rows x 2 columns]"
      ]
     },
     "execution_count": 373,
     "metadata": {},
     "output_type": "execute_result"
    }
   ],
   "source": [
    "geo_data.loc[geo_data['KAB_KOTA'].isnull(), 'KAB_KOTA'] = 'ACEH'\n",
    "geo_data"
   ]
  },
  {
   "cell_type": "code",
   "execution_count": 426,
   "id": "0dacb77e-5931-4efe-b0de-afa52611f507",
   "metadata": {},
   "outputs": [
    {
     "data": {
      "text/html": [
       "<div>\n",
       "<style scoped>\n",
       "    .dataframe tbody tr th:only-of-type {\n",
       "        vertical-align: middle;\n",
       "    }\n",
       "\n",
       "    .dataframe tbody tr th {\n",
       "        vertical-align: top;\n",
       "    }\n",
       "\n",
       "    .dataframe thead th {\n",
       "        text-align: right;\n",
       "    }\n",
       "</style>\n",
       "<table border=\"1\" class=\"dataframe\">\n",
       "  <thead>\n",
       "    <tr style=\"text-align: right;\">\n",
       "      <th></th>\n",
       "      <th>Nama Wilayah</th>\n",
       "      <th>2016</th>\n",
       "      <th>2017</th>\n",
       "      <th>2018</th>\n",
       "      <th>2019</th>\n",
       "      <th>2020</th>\n",
       "      <th>2021</th>\n",
       "      <th>2022</th>\n",
       "      <th>2023</th>\n",
       "      <th>Total</th>\n",
       "    </tr>\n",
       "  </thead>\n",
       "  <tbody>\n",
       "    <tr>\n",
       "      <th>0</th>\n",
       "      <td>ACEH</td>\n",
       "      <td>410956</td>\n",
       "      <td>435454</td>\n",
       "      <td>464626</td>\n",
       "      <td>486935</td>\n",
       "      <td>522126</td>\n",
       "      <td>541109</td>\n",
       "      <td>579227</td>\n",
       "      <td>627534</td>\n",
       "      <td>4067967</td>\n",
       "    </tr>\n",
       "    <tr>\n",
       "      <th>7</th>\n",
       "      <td>ACEH BARAT</td>\n",
       "      <td>441909</td>\n",
       "      <td>446614</td>\n",
       "      <td>447089</td>\n",
       "      <td>471058</td>\n",
       "      <td>517264</td>\n",
       "      <td>533712</td>\n",
       "      <td>558638</td>\n",
       "      <td>616091</td>\n",
       "      <td>4032375</td>\n",
       "    </tr>\n",
       "    <tr>\n",
       "      <th>12</th>\n",
       "      <td>ACEH BARAT DAYA</td>\n",
       "      <td>306930</td>\n",
       "      <td>329543</td>\n",
       "      <td>340903</td>\n",
       "      <td>358059</td>\n",
       "      <td>393640</td>\n",
       "      <td>406157</td>\n",
       "      <td>430297</td>\n",
       "      <td>474127</td>\n",
       "      <td>3039656</td>\n",
       "    </tr>\n",
       "    <tr>\n",
       "      <th>8</th>\n",
       "      <td>ACEH BESAR</td>\n",
       "      <td>384545</td>\n",
       "      <td>398752</td>\n",
       "      <td>422051</td>\n",
       "      <td>447563</td>\n",
       "      <td>477938</td>\n",
       "      <td>489498</td>\n",
       "      <td>519320</td>\n",
       "      <td>564431</td>\n",
       "      <td>3704098</td>\n",
       "    </tr>\n",
       "    <tr>\n",
       "      <th>16</th>\n",
       "      <td>ACEH JAYA</td>\n",
       "      <td>331940</td>\n",
       "      <td>356060</td>\n",
       "      <td>373690</td>\n",
       "      <td>391677</td>\n",
       "      <td>428094</td>\n",
       "      <td>441706</td>\n",
       "      <td>468854</td>\n",
       "      <td>515244</td>\n",
       "      <td>3307265</td>\n",
       "    </tr>\n",
       "    <tr>\n",
       "      <th>...</th>\n",
       "      <td>...</td>\n",
       "      <td>...</td>\n",
       "      <td>...</td>\n",
       "      <td>...</td>\n",
       "      <td>...</td>\n",
       "      <td>...</td>\n",
       "      <td>...</td>\n",
       "      <td>...</td>\n",
       "      <td>...</td>\n",
       "      <td>...</td>\n",
       "    </tr>\n",
       "    <tr>\n",
       "      <th>139</th>\n",
       "      <td>WAY KANAN</td>\n",
       "      <td>313733</td>\n",
       "      <td>323691</td>\n",
       "      <td>333033</td>\n",
       "      <td>341012</td>\n",
       "      <td>377712</td>\n",
       "      <td>389088</td>\n",
       "      <td>409522</td>\n",
       "      <td>433471</td>\n",
       "      <td>2921262</td>\n",
       "    </tr>\n",
       "    <tr>\n",
       "      <th>211</th>\n",
       "      <td>WONOGIRI</td>\n",
       "      <td>275507</td>\n",
       "      <td>284710</td>\n",
       "      <td>293357</td>\n",
       "      <td>327364</td>\n",
       "      <td>341643</td>\n",
       "      <td>356728</td>\n",
       "      <td>376763</td>\n",
       "      <td>414901</td>\n",
       "      <td>2670973</td>\n",
       "    </tr>\n",
       "    <tr>\n",
       "      <th>206</th>\n",
       "      <td>WONOSOBO</td>\n",
       "      <td>297422</td>\n",
       "      <td>308553</td>\n",
       "      <td>323490</td>\n",
       "      <td>340827</td>\n",
       "      <td>362683</td>\n",
       "      <td>373474</td>\n",
       "      <td>399180</td>\n",
       "      <td>425105</td>\n",
       "      <td>2830734</td>\n",
       "    </tr>\n",
       "    <tr>\n",
       "      <th>531</th>\n",
       "      <td>YAHUKIMO</td>\n",
       "      <td>320783</td>\n",
       "      <td>338613</td>\n",
       "      <td>379628</td>\n",
       "      <td>414936</td>\n",
       "      <td>428433</td>\n",
       "      <td>466113</td>\n",
       "      <td>496222</td>\n",
       "      <td>549772</td>\n",
       "      <td>3394500</td>\n",
       "    </tr>\n",
       "    <tr>\n",
       "      <th>542</th>\n",
       "      <td>YALIMO</td>\n",
       "      <td>286170</td>\n",
       "      <td>316059</td>\n",
       "      <td>320971</td>\n",
       "      <td>330040</td>\n",
       "      <td>347171</td>\n",
       "      <td>378167</td>\n",
       "      <td>395868</td>\n",
       "      <td>434256</td>\n",
       "      <td>2808702</td>\n",
       "    </tr>\n",
       "  </tbody>\n",
       "</table>\n",
       "<p>486 rows × 10 columns</p>\n",
       "</div>"
      ],
      "text/plain": [
       "        Nama Wilayah    2016    2017    2018    2019    2020    2021    2022  \\\n",
       "0               ACEH  410956  435454  464626  486935  522126  541109  579227   \n",
       "7         ACEH BARAT  441909  446614  447089  471058  517264  533712  558638   \n",
       "12   ACEH BARAT DAYA  306930  329543  340903  358059  393640  406157  430297   \n",
       "8         ACEH BESAR  384545  398752  422051  447563  477938  489498  519320   \n",
       "16         ACEH JAYA  331940  356060  373690  391677  428094  441706  468854   \n",
       "..               ...     ...     ...     ...     ...     ...     ...     ...   \n",
       "139        WAY KANAN  313733  323691  333033  341012  377712  389088  409522   \n",
       "211         WONOGIRI  275507  284710  293357  327364  341643  356728  376763   \n",
       "206         WONOSOBO  297422  308553  323490  340827  362683  373474  399180   \n",
       "531         YAHUKIMO  320783  338613  379628  414936  428433  466113  496222   \n",
       "542           YALIMO  286170  316059  320971  330040  347171  378167  395868   \n",
       "\n",
       "       2023    Total  \n",
       "0    627534  4067967  \n",
       "7    616091  4032375  \n",
       "12   474127  3039656  \n",
       "8    564431  3704098  \n",
       "16   515244  3307265  \n",
       "..      ...      ...  \n",
       "139  433471  2921262  \n",
       "211  414901  2670973  \n",
       "206  425105  2830734  \n",
       "531  549772  3394500  \n",
       "542  434256  2808702  \n",
       "\n",
       "[486 rows x 10 columns]"
      ]
     },
     "execution_count": 426,
     "metadata": {},
     "output_type": "execute_result"
    }
   ],
   "source": [
    "five['Nama Wilayah'] = five['Nama Wilayah'].str.upper()\n",
    "five"
   ]
  },
  {
   "cell_type": "code",
   "execution_count": 375,
   "id": "7f9d350b-af02-476b-9da7-51dcb0c0e71d",
   "metadata": {
    "scrolled": true
   },
   "outputs": [
    {
     "name": "stdout",
     "output_type": "stream",
     "text": [
      "BANYUASIN ga terdaftar di data geologis\n",
      "1\n",
      "BATANGHARI ga terdaftar di data geologis\n",
      "2\n",
      "GUNUNGKIDUL ga terdaftar di data geologis\n",
      "3\n",
      "JAKARTA BARAT ga terdaftar di data geologis\n",
      "4\n",
      "JAKARTA PUSAT ga terdaftar di data geologis\n",
      "5\n",
      "JAKARTA SELATAN ga terdaftar di data geologis\n",
      "6\n",
      "JAKARTA TIMUR ga terdaftar di data geologis\n",
      "7\n",
      "JAKARTA UTARA ga terdaftar di data geologis\n",
      "8\n",
      "KARANGASEM ga terdaftar di data geologis\n",
      "9\n",
      "KEP. SIAU TAGULANDANG BIARO ga terdaftar di data geologis\n",
      "10\n",
      "KOTA BANJARBARU ga terdaftar di data geologis\n",
      "11\n",
      "KOTA BAU BAU ga terdaftar di data geologis\n",
      "12\n",
      "KOTA PADANG SIDIMPUAN ga terdaftar di data geologis\n",
      "13\n",
      "KOTA PALANGKARAYA ga terdaftar di data geologis\n",
      "14\n",
      "KOTA PANGKALPINANG ga terdaftar di data geologis\n",
      "15\n",
      "KOTA PARE PARE ga terdaftar di data geologis\n",
      "16\n",
      "KOTA PEMATANGSIANTAR ga terdaftar di data geologis\n",
      "17\n",
      "KOTA SAWAHLUNTO ga terdaftar di data geologis\n",
      "18\n",
      "KOTA TANJUNGPINANG ga terdaftar di data geologis\n",
      "19\n",
      "KOTABARU ga terdaftar di data geologis\n",
      "20\n",
      "LABUHANBATU ga terdaftar di data geologis\n",
      "21\n",
      "LABUHANBATU SELATAN ga terdaftar di data geologis\n",
      "22\n",
      "LABUHANBATU UTARA ga terdaftar di data geologis\n",
      "23\n",
      "MAHAKAM ULU ga terdaftar di data geologis\n",
      "24\n",
      "MEMPAWAH ga terdaftar di data geologis\n",
      "25\n",
      "NDUGA ga terdaftar di data geologis\n",
      "26\n",
      "PAHUWATO ga terdaftar di data geologis\n",
      "27\n",
      "TOLITOLI ga terdaftar di data geologis\n",
      "28\n",
      "TULANG BAWANG ga terdaftar di data geologis\n",
      "29\n"
     ]
    }
   ],
   "source": [
    "data_geologis = geo_data['KAB_KOTA'].to_list()\n",
    "i = 0\n",
    "for item in data_geologis:\n",
    "    fove = five['Nama Wilayah'].to_list()\n",
    "    if item in fove:\n",
    "        pass\n",
    "    else:\n",
    "        print(f'{item} ga terdaftar di data geologis')\n",
    "        i+=1\n",
    "        print(i)\n",
    "        \n"
   ]
  },
  {
   "cell_type": "code",
   "execution_count": 376,
   "id": "b32fb207-688b-4ed5-9a21-cdf6825784ae",
   "metadata": {
    "scrolled": true
   },
   "outputs": [
    {
     "name": "stdout",
     "output_type": "stream",
     "text": [
      "SUMATERA UTARA tidak terdaftar di data geologis\n",
      "LABUHAN BATU tidak terdaftar di data geologis\n",
      "LABUHAN BATU SELATAN tidak terdaftar di data geologis\n",
      "LABUHAN BATU UTARA tidak terdaftar di data geologis\n",
      "KOTA PEMATANG SIANTAR tidak terdaftar di data geologis\n",
      "KOTA PADANGSIDIMPUAN tidak terdaftar di data geologis\n",
      "SUMATERA BARAT tidak terdaftar di data geologis\n",
      "KOTA SAWAH LUNTO tidak terdaftar di data geologis\n",
      "RIAU tidak terdaftar di data geologis\n",
      "JAMBI tidak terdaftar di data geologis\n",
      "BATANG HARI tidak terdaftar di data geologis\n",
      "SUMATERA SELATAN tidak terdaftar di data geologis\n",
      "BANYU ASIN tidak terdaftar di data geologis\n",
      "BENGKULU tidak terdaftar di data geologis\n",
      "LAMPUNG tidak terdaftar di data geologis\n",
      "TULANGBAWANG tidak terdaftar di data geologis\n",
      "KEP. BANGKA BELITUNG tidak terdaftar di data geologis\n",
      "KOTA PANGKAL PINANG tidak terdaftar di data geologis\n",
      "KEPULAUAN RIAU tidak terdaftar di data geologis\n",
      "KOTA TANJUNG PINANG tidak terdaftar di data geologis\n",
      "DKI JAKARTA tidak terdaftar di data geologis\n",
      "KOTA JAKARTA SELATAN tidak terdaftar di data geologis\n",
      "KOTA JAKARTA TIMUR tidak terdaftar di data geologis\n",
      "KOTA JAKARTA PUSAT tidak terdaftar di data geologis\n",
      "KOTA JAKARTA BARAT tidak terdaftar di data geologis\n",
      "KOTA JAKARTA UTARA tidak terdaftar di data geologis\n",
      "JAWA BARAT tidak terdaftar di data geologis\n",
      "JAWA TENGAH tidak terdaftar di data geologis\n",
      "D I YOGYAKARTA tidak terdaftar di data geologis\n",
      "GUNUNG KIDUL tidak terdaftar di data geologis\n",
      "JAWA TIMUR tidak terdaftar di data geologis\n",
      "BANTEN tidak terdaftar di data geologis\n",
      "BALI tidak terdaftar di data geologis\n",
      "KARANG ASEM tidak terdaftar di data geologis\n",
      "NUSA TENGGARA BARAT tidak terdaftar di data geologis\n",
      "NUSA TENGGARA TIMUR tidak terdaftar di data geologis\n",
      "KALIMANTAN BARAT tidak terdaftar di data geologis\n",
      "PONTIANAK tidak terdaftar di data geologis\n",
      "KALIMANTAN TENGAH tidak terdaftar di data geologis\n",
      "KOTA PALANGKA RAYA tidak terdaftar di data geologis\n",
      "KALIMANTAN SELATAN tidak terdaftar di data geologis\n",
      "KOTA BARU tidak terdaftar di data geologis\n",
      "KOTA BANJAR BARU tidak terdaftar di data geologis\n",
      "KALIMANTAN TIMUR tidak terdaftar di data geologis\n",
      "MAHAKAM HULU tidak terdaftar di data geologis\n",
      "KALIMANTAN UTARA tidak terdaftar di data geologis\n",
      "SULAWESI UTARA tidak terdaftar di data geologis\n",
      "SIAU TAGULANDANG BIARO tidak terdaftar di data geologis\n",
      "SULAWESI TENGAH tidak terdaftar di data geologis\n",
      "TOLI-TOLI tidak terdaftar di data geologis\n",
      "SULAWESI SELATAN tidak terdaftar di data geologis\n",
      "KOTA PAREPARE tidak terdaftar di data geologis\n",
      "SULAWESI TENGGARA tidak terdaftar di data geologis\n",
      "KOTA BAUBAU tidak terdaftar di data geologis\n",
      "POHUWATO tidak terdaftar di data geologis\n",
      "SULAWESI BARAT tidak terdaftar di data geologis\n",
      "MALUKU tidak terdaftar di data geologis\n",
      "MALUKU UTARA tidak terdaftar di data geologis\n",
      "PAPUA BARAT tidak terdaftar di data geologis\n",
      "PAPUA tidak terdaftar di data geologis\n",
      "NDUGA * tidak terdaftar di data geologis\n"
     ]
    }
   ],
   "source": [
    "for item in five['Nama Wilayah'].to_list():\n",
    "    if item not in geo_data['KAB_KOTA'].to_list():\n",
    "        print(f'{item} tidak terdaftar di data geologis')\n",
    "        # Remove the row where 'Nama Wilayah' equals the current item\n",
    "        five = five[five['Nama Wilayah'] != item]\n"
   ]
  },
  {
   "cell_type": "code",
   "execution_count": 377,
   "id": "f1e8acb8-e5be-4969-98cd-0f20bb544c35",
   "metadata": {},
   "outputs": [
    {
     "name": "stdout",
     "output_type": "stream",
     "text": [
      "BANYUASIN tidak terdaftar di data wilayah\n",
      "BATANGHARI tidak terdaftar di data wilayah\n",
      "GUNUNGKIDUL tidak terdaftar di data wilayah\n",
      "JAKARTA BARAT tidak terdaftar di data wilayah\n",
      "JAKARTA PUSAT tidak terdaftar di data wilayah\n",
      "JAKARTA SELATAN tidak terdaftar di data wilayah\n",
      "JAKARTA TIMUR tidak terdaftar di data wilayah\n",
      "JAKARTA UTARA tidak terdaftar di data wilayah\n",
      "KARANGASEM tidak terdaftar di data wilayah\n",
      "KEP. SIAU TAGULANDANG BIARO tidak terdaftar di data wilayah\n",
      "KOTA BANJARBARU tidak terdaftar di data wilayah\n",
      "KOTA BAU BAU tidak terdaftar di data wilayah\n",
      "KOTA PADANG SIDIMPUAN tidak terdaftar di data wilayah\n",
      "KOTA PALANGKARAYA tidak terdaftar di data wilayah\n",
      "KOTA PANGKALPINANG tidak terdaftar di data wilayah\n",
      "KOTA PARE PARE tidak terdaftar di data wilayah\n",
      "KOTA PEMATANGSIANTAR tidak terdaftar di data wilayah\n",
      "KOTA SAWAHLUNTO tidak terdaftar di data wilayah\n",
      "KOTA TANJUNGPINANG tidak terdaftar di data wilayah\n",
      "KOTABARU tidak terdaftar di data wilayah\n",
      "LABUHANBATU tidak terdaftar di data wilayah\n",
      "LABUHANBATU SELATAN tidak terdaftar di data wilayah\n",
      "LABUHANBATU UTARA tidak terdaftar di data wilayah\n",
      "MAHAKAM ULU tidak terdaftar di data wilayah\n",
      "MEMPAWAH tidak terdaftar di data wilayah\n",
      "NDUGA tidak terdaftar di data wilayah\n",
      "PAHUWATO tidak terdaftar di data wilayah\n",
      "TOLITOLI tidak terdaftar di data wilayah\n",
      "TULANG BAWANG tidak terdaftar di data wilayah\n"
     ]
    }
   ],
   "source": [
    "wilayah = five['Nama Wilayah'].to_list()\n",
    "geo = geo_data['KAB_KOTA'].to_list()\n",
    "for item in geo:\n",
    "    if item not in wilayah:\n",
    "        print(f'{item} tidak terdaftar di data wilayah')\n",
    "        # Remove the row where 'Nama Wilayah' equals the current item\n",
    "        geo_data = geo_data[geo_data['KAB_KOTA'] != item]\n"
   ]
  },
  {
   "cell_type": "code",
   "execution_count": 378,
   "id": "e8b188a9-4dc5-457b-86ec-ae59d97b1221",
   "metadata": {},
   "outputs": [
    {
     "name": "stdout",
     "output_type": "stream",
     "text": [
      "['ACEH', 'ACEH SINGKIL', 'ACEH SELATAN', 'ACEH TENGGARA', 'ACEH TIMUR', 'ACEH TENGAH', 'ACEH BARAT', 'ACEH BESAR', 'ACEH UTARA', 'ACEH BARAT DAYA', 'ACEH TAMIANG', 'ACEH JAYA', 'KOTA BANDA ACEH', 'CILACAP', 'PACITAN']\n"
     ]
    }
   ],
   "source": [
    "wilayah = five['Nama Wilayah'].to_list()\n",
    "search_term = 'AC'\n",
    "\n",
    "found_strings = list(filter(lambda x: search_term in x, wilayah))\n",
    "print(found_strings)"
   ]
  },
  {
   "cell_type": "code",
   "execution_count": 379,
   "id": "bc905782-2a9f-4e08-b548-74f63088ef08",
   "metadata": {
    "scrolled": true
   },
   "outputs": [
    {
     "name": "stdout",
     "output_type": "stream",
     "text": [
      "['ACEH', 'ACEH BARAT', 'ACEH BARAT DAYA', 'ACEH BESAR', 'ACEH JAYA', 'ACEH SELATAN', 'ACEH SINGKIL', 'ACEH TAMIANG', 'ACEH TENGAH', 'ACEH TENGGARA', 'ACEH TIMUR', 'ACEH UTARA', 'CILACAP', 'KOTA BANDA ACEH', 'PACITAN']\n"
     ]
    }
   ],
   "source": [
    "geo = geo_data['KAB_KOTA'].to_list()\n",
    "search_term = 'AC'\n",
    "\n",
    "found_strings = list(filter(lambda x: search_term in x, geo))\n",
    "print(found_strings)"
   ]
  },
  {
   "cell_type": "markdown",
   "id": "4dc75a05-3954-4704-bbf8-361ecfc51aa4",
   "metadata": {},
   "source": [
    "# GAS AE"
   ]
  },
  {
   "cell_type": "code",
   "execution_count": 380,
   "id": "b41e40ca-362d-4d79-bc24-0dad92c2e725",
   "metadata": {},
   "outputs": [],
   "source": [
    "five.drop_duplicates(subset='Nama Wilayah', keep='first', inplace=True)"
   ]
  },
  {
   "cell_type": "code",
   "execution_count": 381,
   "id": "6a7a4d7f-23af-487b-a24c-e9afb4158b36",
   "metadata": {},
   "outputs": [
    {
     "data": {
      "text/html": [
       "<div>\n",
       "<style scoped>\n",
       "    .dataframe tbody tr th:only-of-type {\n",
       "        vertical-align: middle;\n",
       "    }\n",
       "\n",
       "    .dataframe tbody tr th {\n",
       "        vertical-align: top;\n",
       "    }\n",
       "\n",
       "    .dataframe thead th {\n",
       "        text-align: right;\n",
       "    }\n",
       "</style>\n",
       "<table border=\"1\" class=\"dataframe\">\n",
       "  <thead>\n",
       "    <tr style=\"text-align: right;\">\n",
       "      <th></th>\n",
       "      <th>Nama Wilayah</th>\n",
       "      <th>2016</th>\n",
       "      <th>2017</th>\n",
       "      <th>2018</th>\n",
       "      <th>2019</th>\n",
       "      <th>2020</th>\n",
       "      <th>2021</th>\n",
       "      <th>2022</th>\n",
       "      <th>2023</th>\n",
       "    </tr>\n",
       "  </thead>\n",
       "  <tbody>\n",
       "    <tr>\n",
       "      <th>0</th>\n",
       "      <td>ACEH</td>\n",
       "      <td>410956</td>\n",
       "      <td>435454</td>\n",
       "      <td>464626</td>\n",
       "      <td>486935</td>\n",
       "      <td>522126</td>\n",
       "      <td>541109</td>\n",
       "      <td>579227</td>\n",
       "      <td>627534</td>\n",
       "    </tr>\n",
       "    <tr>\n",
       "      <th>7</th>\n",
       "      <td>ACEH BARAT</td>\n",
       "      <td>441909</td>\n",
       "      <td>446614</td>\n",
       "      <td>447089</td>\n",
       "      <td>471058</td>\n",
       "      <td>517264</td>\n",
       "      <td>533712</td>\n",
       "      <td>558638</td>\n",
       "      <td>616091</td>\n",
       "    </tr>\n",
       "    <tr>\n",
       "      <th>12</th>\n",
       "      <td>ACEH BARAT DAYA</td>\n",
       "      <td>306930</td>\n",
       "      <td>329543</td>\n",
       "      <td>340903</td>\n",
       "      <td>358059</td>\n",
       "      <td>393640</td>\n",
       "      <td>406157</td>\n",
       "      <td>430297</td>\n",
       "      <td>474127</td>\n",
       "    </tr>\n",
       "    <tr>\n",
       "      <th>8</th>\n",
       "      <td>ACEH BESAR</td>\n",
       "      <td>384545</td>\n",
       "      <td>398752</td>\n",
       "      <td>422051</td>\n",
       "      <td>447563</td>\n",
       "      <td>477938</td>\n",
       "      <td>489498</td>\n",
       "      <td>519320</td>\n",
       "      <td>564431</td>\n",
       "    </tr>\n",
       "    <tr>\n",
       "      <th>16</th>\n",
       "      <td>ACEH JAYA</td>\n",
       "      <td>331940</td>\n",
       "      <td>356060</td>\n",
       "      <td>373690</td>\n",
       "      <td>391677</td>\n",
       "      <td>428094</td>\n",
       "      <td>441706</td>\n",
       "      <td>468854</td>\n",
       "      <td>515244</td>\n",
       "    </tr>\n",
       "    <tr>\n",
       "      <th>...</th>\n",
       "      <td>...</td>\n",
       "      <td>...</td>\n",
       "      <td>...</td>\n",
       "      <td>...</td>\n",
       "      <td>...</td>\n",
       "      <td>...</td>\n",
       "      <td>...</td>\n",
       "      <td>...</td>\n",
       "      <td>...</td>\n",
       "    </tr>\n",
       "    <tr>\n",
       "      <th>139</th>\n",
       "      <td>WAY KANAN</td>\n",
       "      <td>313733</td>\n",
       "      <td>323691</td>\n",
       "      <td>333033</td>\n",
       "      <td>341012</td>\n",
       "      <td>377712</td>\n",
       "      <td>389088</td>\n",
       "      <td>409522</td>\n",
       "      <td>433471</td>\n",
       "    </tr>\n",
       "    <tr>\n",
       "      <th>211</th>\n",
       "      <td>WONOGIRI</td>\n",
       "      <td>275507</td>\n",
       "      <td>284710</td>\n",
       "      <td>293357</td>\n",
       "      <td>327364</td>\n",
       "      <td>341643</td>\n",
       "      <td>356728</td>\n",
       "      <td>376763</td>\n",
       "      <td>414901</td>\n",
       "    </tr>\n",
       "    <tr>\n",
       "      <th>206</th>\n",
       "      <td>WONOSOBO</td>\n",
       "      <td>297422</td>\n",
       "      <td>308553</td>\n",
       "      <td>323490</td>\n",
       "      <td>340827</td>\n",
       "      <td>362683</td>\n",
       "      <td>373474</td>\n",
       "      <td>399180</td>\n",
       "      <td>425105</td>\n",
       "    </tr>\n",
       "    <tr>\n",
       "      <th>531</th>\n",
       "      <td>YAHUKIMO</td>\n",
       "      <td>320783</td>\n",
       "      <td>338613</td>\n",
       "      <td>379628</td>\n",
       "      <td>414936</td>\n",
       "      <td>428433</td>\n",
       "      <td>466113</td>\n",
       "      <td>496222</td>\n",
       "      <td>549772</td>\n",
       "    </tr>\n",
       "    <tr>\n",
       "      <th>542</th>\n",
       "      <td>YALIMO</td>\n",
       "      <td>286170</td>\n",
       "      <td>316059</td>\n",
       "      <td>320971</td>\n",
       "      <td>330040</td>\n",
       "      <td>347171</td>\n",
       "      <td>378167</td>\n",
       "      <td>395868</td>\n",
       "      <td>434256</td>\n",
       "    </tr>\n",
       "  </tbody>\n",
       "</table>\n",
       "<p>486 rows × 9 columns</p>\n",
       "</div>"
      ],
      "text/plain": [
       "        Nama Wilayah    2016    2017    2018    2019    2020    2021    2022  \\\n",
       "0               ACEH  410956  435454  464626  486935  522126  541109  579227   \n",
       "7         ACEH BARAT  441909  446614  447089  471058  517264  533712  558638   \n",
       "12   ACEH BARAT DAYA  306930  329543  340903  358059  393640  406157  430297   \n",
       "8         ACEH BESAR  384545  398752  422051  447563  477938  489498  519320   \n",
       "16         ACEH JAYA  331940  356060  373690  391677  428094  441706  468854   \n",
       "..               ...     ...     ...     ...     ...     ...     ...     ...   \n",
       "139        WAY KANAN  313733  323691  333033  341012  377712  389088  409522   \n",
       "211         WONOGIRI  275507  284710  293357  327364  341643  356728  376763   \n",
       "206         WONOSOBO  297422  308553  323490  340827  362683  373474  399180   \n",
       "531         YAHUKIMO  320783  338613  379628  414936  428433  466113  496222   \n",
       "542           YALIMO  286170  316059  320971  330040  347171  378167  395868   \n",
       "\n",
       "       2023  \n",
       "0    627534  \n",
       "7    616091  \n",
       "12   474127  \n",
       "8    564431  \n",
       "16   515244  \n",
       "..      ...  \n",
       "139  433471  \n",
       "211  414901  \n",
       "206  425105  \n",
       "531  549772  \n",
       "542  434256  \n",
       "\n",
       "[486 rows x 9 columns]"
      ]
     },
     "execution_count": 381,
     "metadata": {},
     "output_type": "execute_result"
    }
   ],
   "source": [
    "five.sort_values(by='Nama Wilayah', inplace=True)\n",
    "five"
   ]
  },
  {
   "cell_type": "code",
   "execution_count": 383,
   "id": "02f5f80f-cc0f-45b6-8c43-cbba7ca321aa",
   "metadata": {},
   "outputs": [
    {
     "data": {
      "text/html": [
       "<div>\n",
       "<style scoped>\n",
       "    .dataframe tbody tr th:only-of-type {\n",
       "        vertical-align: middle;\n",
       "    }\n",
       "\n",
       "    .dataframe tbody tr th {\n",
       "        vertical-align: top;\n",
       "    }\n",
       "\n",
       "    .dataframe thead th {\n",
       "        text-align: right;\n",
       "    }\n",
       "</style>\n",
       "<table border=\"1\" class=\"dataframe\">\n",
       "  <thead>\n",
       "    <tr style=\"text-align: right;\">\n",
       "      <th></th>\n",
       "      <th>KAB_KOTA</th>\n",
       "      <th>geometry</th>\n",
       "    </tr>\n",
       "  </thead>\n",
       "  <tbody>\n",
       "    <tr>\n",
       "      <th>0</th>\n",
       "      <td>ACEH</td>\n",
       "      <td>MULTIPOLYGON (((116.20336 -8.75440, 116.20314 ...</td>\n",
       "    </tr>\n",
       "    <tr>\n",
       "      <th>1</th>\n",
       "      <td>ACEH BARAT</td>\n",
       "      <td>POLYGON ((96.11425 4.14761, 96.11439 4.14799, ...</td>\n",
       "    </tr>\n",
       "    <tr>\n",
       "      <th>2</th>\n",
       "      <td>ACEH BARAT DAYA</td>\n",
       "      <td>MULTIPOLYGON (((96.80559 3.71758, 96.80444 3.7...</td>\n",
       "    </tr>\n",
       "    <tr>\n",
       "      <th>3</th>\n",
       "      <td>ACEH BESAR</td>\n",
       "      <td>MULTIPOLYGON (((95.20544 5.28072, 95.20563 5.2...</td>\n",
       "    </tr>\n",
       "    <tr>\n",
       "      <th>4</th>\n",
       "      <td>ACEH JAYA</td>\n",
       "      <td>MULTIPOLYGON (((95.58431 4.61495, 95.58379 4.6...</td>\n",
       "    </tr>\n",
       "    <tr>\n",
       "      <th>...</th>\n",
       "      <td>...</td>\n",
       "      <td>...</td>\n",
       "    </tr>\n",
       "    <tr>\n",
       "      <th>510</th>\n",
       "      <td>WAY KANAN</td>\n",
       "      <td>MULTIPOLYGON (((105.27466 -5.15933, 105.27486 ...</td>\n",
       "    </tr>\n",
       "    <tr>\n",
       "      <th>511</th>\n",
       "      <td>WONOGIRI</td>\n",
       "      <td>POLYGON ((111.18203 -7.71237, 111.18242 -7.712...</td>\n",
       "    </tr>\n",
       "    <tr>\n",
       "      <th>512</th>\n",
       "      <td>WONOSOBO</td>\n",
       "      <td>POLYGON ((109.93000 -7.19465, 109.93017 -7.194...</td>\n",
       "    </tr>\n",
       "    <tr>\n",
       "      <th>513</th>\n",
       "      <td>YAHUKIMO</td>\n",
       "      <td>POLYGON ((139.96223 -3.60980, 139.96314 -3.609...</td>\n",
       "    </tr>\n",
       "    <tr>\n",
       "      <th>514</th>\n",
       "      <td>YALIMO</td>\n",
       "      <td>MULTIPOLYGON (((139.47430 -3.51888, 139.47701 ...</td>\n",
       "    </tr>\n",
       "  </tbody>\n",
       "</table>\n",
       "<p>486 rows × 2 columns</p>\n",
       "</div>"
      ],
      "text/plain": [
       "            KAB_KOTA                                           geometry\n",
       "0               ACEH  MULTIPOLYGON (((116.20336 -8.75440, 116.20314 ...\n",
       "1         ACEH BARAT  POLYGON ((96.11425 4.14761, 96.11439 4.14799, ...\n",
       "2    ACEH BARAT DAYA  MULTIPOLYGON (((96.80559 3.71758, 96.80444 3.7...\n",
       "3         ACEH BESAR  MULTIPOLYGON (((95.20544 5.28072, 95.20563 5.2...\n",
       "4          ACEH JAYA  MULTIPOLYGON (((95.58431 4.61495, 95.58379 4.6...\n",
       "..               ...                                                ...\n",
       "510        WAY KANAN  MULTIPOLYGON (((105.27466 -5.15933, 105.27486 ...\n",
       "511         WONOGIRI  POLYGON ((111.18203 -7.71237, 111.18242 -7.712...\n",
       "512         WONOSOBO  POLYGON ((109.93000 -7.19465, 109.93017 -7.194...\n",
       "513         YAHUKIMO  POLYGON ((139.96223 -3.60980, 139.96314 -3.609...\n",
       "514           YALIMO  MULTIPOLYGON (((139.47430 -3.51888, 139.47701 ...\n",
       "\n",
       "[486 rows x 2 columns]"
      ]
     },
     "execution_count": 383,
     "metadata": {},
     "output_type": "execute_result"
    }
   ],
   "source": [
    "geo_data.sort_values(by='KAB_KOTA', inplace=True)\n",
    "geo_data"
   ]
  },
  {
   "cell_type": "code",
   "execution_count": 401,
   "id": "215b87bb-a651-4363-9a92-dc5146026df0",
   "metadata": {
    "scrolled": true
   },
   "outputs": [
    {
     "data": {
      "text/html": [
       "<div>\n",
       "<style scoped>\n",
       "    .dataframe tbody tr th:only-of-type {\n",
       "        vertical-align: middle;\n",
       "    }\n",
       "\n",
       "    .dataframe tbody tr th {\n",
       "        vertical-align: top;\n",
       "    }\n",
       "\n",
       "    .dataframe thead th {\n",
       "        text-align: right;\n",
       "    }\n",
       "</style>\n",
       "<table border=\"1\" class=\"dataframe\">\n",
       "  <thead>\n",
       "    <tr style=\"text-align: right;\">\n",
       "      <th></th>\n",
       "      <th>index</th>\n",
       "      <th>KAB_KOTA</th>\n",
       "      <th>geometry</th>\n",
       "    </tr>\n",
       "  </thead>\n",
       "  <tbody>\n",
       "    <tr>\n",
       "      <th>0</th>\n",
       "      <td>0</td>\n",
       "      <td>ACEH</td>\n",
       "      <td>MULTIPOLYGON (((116.20336 -8.75440, 116.20314 ...</td>\n",
       "    </tr>\n",
       "    <tr>\n",
       "      <th>1</th>\n",
       "      <td>1</td>\n",
       "      <td>ACEH BARAT</td>\n",
       "      <td>POLYGON ((96.11425 4.14761, 96.11439 4.14799, ...</td>\n",
       "    </tr>\n",
       "    <tr>\n",
       "      <th>2</th>\n",
       "      <td>2</td>\n",
       "      <td>ACEH BARAT DAYA</td>\n",
       "      <td>MULTIPOLYGON (((96.80559 3.71758, 96.80444 3.7...</td>\n",
       "    </tr>\n",
       "    <tr>\n",
       "      <th>3</th>\n",
       "      <td>3</td>\n",
       "      <td>ACEH BESAR</td>\n",
       "      <td>MULTIPOLYGON (((95.20544 5.28072, 95.20563 5.2...</td>\n",
       "    </tr>\n",
       "    <tr>\n",
       "      <th>4</th>\n",
       "      <td>4</td>\n",
       "      <td>ACEH JAYA</td>\n",
       "      <td>MULTIPOLYGON (((95.58431 4.61495, 95.58379 4.6...</td>\n",
       "    </tr>\n",
       "    <tr>\n",
       "      <th>...</th>\n",
       "      <td>...</td>\n",
       "      <td>...</td>\n",
       "      <td>...</td>\n",
       "    </tr>\n",
       "    <tr>\n",
       "      <th>481</th>\n",
       "      <td>510</td>\n",
       "      <td>WAY KANAN</td>\n",
       "      <td>MULTIPOLYGON (((105.27466 -5.15933, 105.27486 ...</td>\n",
       "    </tr>\n",
       "    <tr>\n",
       "      <th>482</th>\n",
       "      <td>511</td>\n",
       "      <td>WONOGIRI</td>\n",
       "      <td>POLYGON ((111.18203 -7.71237, 111.18242 -7.712...</td>\n",
       "    </tr>\n",
       "    <tr>\n",
       "      <th>483</th>\n",
       "      <td>512</td>\n",
       "      <td>WONOSOBO</td>\n",
       "      <td>POLYGON ((109.93000 -7.19465, 109.93017 -7.194...</td>\n",
       "    </tr>\n",
       "    <tr>\n",
       "      <th>484</th>\n",
       "      <td>513</td>\n",
       "      <td>YAHUKIMO</td>\n",
       "      <td>POLYGON ((139.96223 -3.60980, 139.96314 -3.609...</td>\n",
       "    </tr>\n",
       "    <tr>\n",
       "      <th>485</th>\n",
       "      <td>514</td>\n",
       "      <td>YALIMO</td>\n",
       "      <td>MULTIPOLYGON (((139.47430 -3.51888, 139.47701 ...</td>\n",
       "    </tr>\n",
       "  </tbody>\n",
       "</table>\n",
       "<p>486 rows × 3 columns</p>\n",
       "</div>"
      ],
      "text/plain": [
       "     index         KAB_KOTA                                           geometry\n",
       "0        0             ACEH  MULTIPOLYGON (((116.20336 -8.75440, 116.20314 ...\n",
       "1        1       ACEH BARAT  POLYGON ((96.11425 4.14761, 96.11439 4.14799, ...\n",
       "2        2  ACEH BARAT DAYA  MULTIPOLYGON (((96.80559 3.71758, 96.80444 3.7...\n",
       "3        3       ACEH BESAR  MULTIPOLYGON (((95.20544 5.28072, 95.20563 5.2...\n",
       "4        4        ACEH JAYA  MULTIPOLYGON (((95.58431 4.61495, 95.58379 4.6...\n",
       "..     ...              ...                                                ...\n",
       "481    510        WAY KANAN  MULTIPOLYGON (((105.27466 -5.15933, 105.27486 ...\n",
       "482    511         WONOGIRI  POLYGON ((111.18203 -7.71237, 111.18242 -7.712...\n",
       "483    512         WONOSOBO  POLYGON ((109.93000 -7.19465, 109.93017 -7.194...\n",
       "484    513         YAHUKIMO  POLYGON ((139.96223 -3.60980, 139.96314 -3.609...\n",
       "485    514           YALIMO  MULTIPOLYGON (((139.47430 -3.51888, 139.47701 ...\n",
       "\n",
       "[486 rows x 3 columns]"
      ]
     },
     "execution_count": 401,
     "metadata": {},
     "output_type": "execute_result"
    }
   ],
   "source": [
    "geo_data.reset_index()"
   ]
  },
  {
   "cell_type": "code",
   "execution_count": 399,
   "id": "e21e0fd2-8548-4583-aa0e-f65ecfbf56d6",
   "metadata": {},
   "outputs": [
    {
     "data": {
      "text/plain": [
       "Nama Wilayah    0\n",
       "2016            0\n",
       "2017            0\n",
       "2018            0\n",
       "2019            0\n",
       "2020            0\n",
       "2021            0\n",
       "2022            0\n",
       "2023            0\n",
       "Total           0\n",
       "dtype: int64"
      ]
     },
     "execution_count": 399,
     "metadata": {},
     "output_type": "execute_result"
    }
   ],
   "source": [
    "five['Total'] = five_tawil.sum(axis=1)\n",
    "five.isnull().sum()"
   ]
  },
  {
   "cell_type": "code",
   "execution_count": 407,
   "id": "04b80869-3ecc-4802-a954-d265b347e7d7",
   "metadata": {
    "scrolled": true
   },
   "outputs": [
    {
     "data": {
      "text/html": [
       "<div>\n",
       "<style scoped>\n",
       "    .dataframe tbody tr th:only-of-type {\n",
       "        vertical-align: middle;\n",
       "    }\n",
       "\n",
       "    .dataframe tbody tr th {\n",
       "        vertical-align: top;\n",
       "    }\n",
       "\n",
       "    .dataframe thead th {\n",
       "        text-align: right;\n",
       "    }\n",
       "</style>\n",
       "<table border=\"1\" class=\"dataframe\">\n",
       "  <thead>\n",
       "    <tr style=\"text-align: right;\">\n",
       "      <th></th>\n",
       "      <th>Nama Wilayah</th>\n",
       "      <th>geometry</th>\n",
       "    </tr>\n",
       "  </thead>\n",
       "  <tbody>\n",
       "    <tr>\n",
       "      <th>0</th>\n",
       "      <td>ACEH</td>\n",
       "      <td>MULTIPOLYGON (((116.20336 -8.75440, 116.20314 ...</td>\n",
       "    </tr>\n",
       "    <tr>\n",
       "      <th>1</th>\n",
       "      <td>ACEH BARAT</td>\n",
       "      <td>POLYGON ((96.11425 4.14761, 96.11439 4.14799, ...</td>\n",
       "    </tr>\n",
       "    <tr>\n",
       "      <th>2</th>\n",
       "      <td>ACEH BARAT DAYA</td>\n",
       "      <td>MULTIPOLYGON (((96.80559 3.71758, 96.80444 3.7...</td>\n",
       "    </tr>\n",
       "    <tr>\n",
       "      <th>3</th>\n",
       "      <td>ACEH BESAR</td>\n",
       "      <td>MULTIPOLYGON (((95.20544 5.28072, 95.20563 5.2...</td>\n",
       "    </tr>\n",
       "    <tr>\n",
       "      <th>4</th>\n",
       "      <td>ACEH JAYA</td>\n",
       "      <td>MULTIPOLYGON (((95.58431 4.61495, 95.58379 4.6...</td>\n",
       "    </tr>\n",
       "    <tr>\n",
       "      <th>...</th>\n",
       "      <td>...</td>\n",
       "      <td>...</td>\n",
       "    </tr>\n",
       "    <tr>\n",
       "      <th>510</th>\n",
       "      <td>WAY KANAN</td>\n",
       "      <td>MULTIPOLYGON (((105.27466 -5.15933, 105.27486 ...</td>\n",
       "    </tr>\n",
       "    <tr>\n",
       "      <th>511</th>\n",
       "      <td>WONOGIRI</td>\n",
       "      <td>POLYGON ((111.18203 -7.71237, 111.18242 -7.712...</td>\n",
       "    </tr>\n",
       "    <tr>\n",
       "      <th>512</th>\n",
       "      <td>WONOSOBO</td>\n",
       "      <td>POLYGON ((109.93000 -7.19465, 109.93017 -7.194...</td>\n",
       "    </tr>\n",
       "    <tr>\n",
       "      <th>513</th>\n",
       "      <td>YAHUKIMO</td>\n",
       "      <td>POLYGON ((139.96223 -3.60980, 139.96314 -3.609...</td>\n",
       "    </tr>\n",
       "    <tr>\n",
       "      <th>514</th>\n",
       "      <td>YALIMO</td>\n",
       "      <td>MULTIPOLYGON (((139.47430 -3.51888, 139.47701 ...</td>\n",
       "    </tr>\n",
       "  </tbody>\n",
       "</table>\n",
       "<p>486 rows × 2 columns</p>\n",
       "</div>"
      ],
      "text/plain": [
       "        Nama Wilayah                                           geometry\n",
       "0               ACEH  MULTIPOLYGON (((116.20336 -8.75440, 116.20314 ...\n",
       "1         ACEH BARAT  POLYGON ((96.11425 4.14761, 96.11439 4.14799, ...\n",
       "2    ACEH BARAT DAYA  MULTIPOLYGON (((96.80559 3.71758, 96.80444 3.7...\n",
       "3         ACEH BESAR  MULTIPOLYGON (((95.20544 5.28072, 95.20563 5.2...\n",
       "4          ACEH JAYA  MULTIPOLYGON (((95.58431 4.61495, 95.58379 4.6...\n",
       "..               ...                                                ...\n",
       "510        WAY KANAN  MULTIPOLYGON (((105.27466 -5.15933, 105.27486 ...\n",
       "511         WONOGIRI  POLYGON ((111.18203 -7.71237, 111.18242 -7.712...\n",
       "512         WONOSOBO  POLYGON ((109.93000 -7.19465, 109.93017 -7.194...\n",
       "513         YAHUKIMO  POLYGON ((139.96223 -3.60980, 139.96314 -3.609...\n",
       "514           YALIMO  MULTIPOLYGON (((139.47430 -3.51888, 139.47701 ...\n",
       "\n",
       "[486 rows x 2 columns]"
      ]
     },
     "execution_count": 407,
     "metadata": {},
     "output_type": "execute_result"
    }
   ],
   "source": [
    "geo_data.rename(columns={'KAB_KOTA' : 'Nama Wilayah'}, inplace=True)\n",
    "geo_data"
   ]
  },
  {
   "cell_type": "code",
   "execution_count": 408,
   "id": "c0013170-59ca-4229-aa0b-87d13ed1e5db",
   "metadata": {},
   "outputs": [
    {
     "data": {
      "text/html": [
       "<div>\n",
       "<style scoped>\n",
       "    .dataframe tbody tr th:only-of-type {\n",
       "        vertical-align: middle;\n",
       "    }\n",
       "\n",
       "    .dataframe tbody tr th {\n",
       "        vertical-align: top;\n",
       "    }\n",
       "\n",
       "    .dataframe thead th {\n",
       "        text-align: right;\n",
       "    }\n",
       "</style>\n",
       "<table border=\"1\" class=\"dataframe\">\n",
       "  <thead>\n",
       "    <tr style=\"text-align: right;\">\n",
       "      <th></th>\n",
       "      <th>Nama Wilayah</th>\n",
       "      <th>Total</th>\n",
       "    </tr>\n",
       "  </thead>\n",
       "  <tbody>\n",
       "    <tr>\n",
       "      <th>0</th>\n",
       "      <td>ACEH</td>\n",
       "      <td>4067967</td>\n",
       "    </tr>\n",
       "    <tr>\n",
       "      <th>7</th>\n",
       "      <td>ACEH BARAT</td>\n",
       "      <td>4032375</td>\n",
       "    </tr>\n",
       "    <tr>\n",
       "      <th>12</th>\n",
       "      <td>ACEH BARAT DAYA</td>\n",
       "      <td>3039656</td>\n",
       "    </tr>\n",
       "    <tr>\n",
       "      <th>8</th>\n",
       "      <td>ACEH BESAR</td>\n",
       "      <td>3704098</td>\n",
       "    </tr>\n",
       "    <tr>\n",
       "      <th>16</th>\n",
       "      <td>ACEH JAYA</td>\n",
       "      <td>3307265</td>\n",
       "    </tr>\n",
       "    <tr>\n",
       "      <th>...</th>\n",
       "      <td>...</td>\n",
       "      <td>...</td>\n",
       "    </tr>\n",
       "    <tr>\n",
       "      <th>139</th>\n",
       "      <td>WAY KANAN</td>\n",
       "      <td>2921262</td>\n",
       "    </tr>\n",
       "    <tr>\n",
       "      <th>211</th>\n",
       "      <td>WONOGIRI</td>\n",
       "      <td>2670973</td>\n",
       "    </tr>\n",
       "    <tr>\n",
       "      <th>206</th>\n",
       "      <td>WONOSOBO</td>\n",
       "      <td>2830734</td>\n",
       "    </tr>\n",
       "    <tr>\n",
       "      <th>531</th>\n",
       "      <td>YAHUKIMO</td>\n",
       "      <td>3394500</td>\n",
       "    </tr>\n",
       "    <tr>\n",
       "      <th>542</th>\n",
       "      <td>YALIMO</td>\n",
       "      <td>2808702</td>\n",
       "    </tr>\n",
       "  </tbody>\n",
       "</table>\n",
       "<p>486 rows × 2 columns</p>\n",
       "</div>"
      ],
      "text/plain": [
       "        Nama Wilayah    Total\n",
       "0               ACEH  4067967\n",
       "7         ACEH BARAT  4032375\n",
       "12   ACEH BARAT DAYA  3039656\n",
       "8         ACEH BESAR  3704098\n",
       "16         ACEH JAYA  3307265\n",
       "..               ...      ...\n",
       "139        WAY KANAN  2921262\n",
       "211         WONOGIRI  2670973\n",
       "206         WONOSOBO  2830734\n",
       "531         YAHUKIMO  3394500\n",
       "542           YALIMO  2808702\n",
       "\n",
       "[486 rows x 2 columns]"
      ]
     },
     "execution_count": 408,
     "metadata": {},
     "output_type": "execute_result"
    }
   ],
   "source": [
    "total_five = five[['Nama Wilayah', 'Total']]\n",
    "total_five"
   ]
  },
  {
   "cell_type": "code",
   "execution_count": 411,
   "id": "c895339c-5e8c-4ed1-a4bc-645dd16c5262",
   "metadata": {},
   "outputs": [
    {
     "name": "stderr",
     "output_type": "stream",
     "text": [
      "/var/folders/xc/d0qhyhwn3p5gbwrj185qgv1h0000gn/T/ipykernel_43823/3581348454.py:2: UserWarning:\n",
      "\n",
      "Column names longer than 10 characters will be truncated when saved to ESRI Shapefile.\n",
      "\n"
     ]
    }
   ],
   "source": [
    "df = geo_data.merge(total_five, on='Nama Wilayah')\n",
    "df.to_file('lokasi dan total kemiskinan.shp')"
   ]
  },
  {
   "cell_type": "code",
   "execution_count": 412,
   "id": "f46c47d9-3af0-457c-a529-91c2db500bad",
   "metadata": {},
   "outputs": [
    {
     "name": "stdout",
     "output_type": "stream",
     "text": [
      "<class 'geopandas.geodataframe.GeoDataFrame'>\n",
      "RangeIndex: 486 entries, 0 to 485\n",
      "Data columns (total 3 columns):\n",
      " #   Column        Non-Null Count  Dtype   \n",
      "---  ------        --------------  -----   \n",
      " 0   Nama Wilayah  486 non-null    object  \n",
      " 1   geometry      486 non-null    geometry\n",
      " 2   Total         486 non-null    int64   \n",
      "dtypes: geometry(1), int64(1), object(1)\n",
      "memory usage: 11.5+ KB\n"
     ]
    }
   ],
   "source": [
    "df.info()"
   ]
  },
  {
   "cell_type": "code",
   "execution_count": 413,
   "id": "7483282b-7fe6-4594-bd32-05a28b5c92ed",
   "metadata": {},
   "outputs": [
    {
     "data": {
      "text/plain": [
       "<Axes: >"
      ]
     },
     "execution_count": 413,
     "metadata": {},
     "output_type": "execute_result"
    },
    {
     "data": {
      "image/png": "[encoded data removed]",
      "text/plain": [
       "<Figure size 1200x1200 with 1 Axes>"
      ]
     },
     "metadata": {},
     "output_type": "display_data"
    }
   ],
   "source": [
    "geo_data.plot(figsize=(12,12))"
   ]
  },
  {
   "cell_type": "code",
   "execution_count": 415,
   "id": "22870d03-9e9b-4b6a-96d9-94c466090f3a",
   "metadata": {},
   "outputs": [
    {
     "name": "stdout",
     "output_type": "stream",
     "text": [
      "1926792\n",
      "7911671\n"
     ]
    }
   ],
   "source": [
    "print(df['Total'].min())\n",
    "print(df['Total'].max())\n"
   ]
  },
  {
   "cell_type": "code",
   "execution_count": 417,
   "id": "bc2df6d0-75a6-4987-9f73-c1b2cafd28b1",
   "metadata": {},
   "outputs": [
    {
     "data": {
      "image/png": "[encoded data removed]",
      "text/plain": [
       "<Figure size 1000x800 with 2 Axes>"
      ]
     },
     "metadata": {},
     "output_type": "display_data"
    }
   ],
   "source": [
    "file_path = 'lokasi dan total kemiskinan.shp'\n",
    "data = gpd.read_file(file_path)\n",
    "\n",
    "# Visualisasi peta\n",
    "import numpy as np\n",
    "\n",
    "# Visualisasi peta\n",
    "data.plot(column='Total', legend=True, cmap='YlOrRd', figsize=(10, 8))\n",
    "plt.title('Total Kemiskinan per Wilayah')\n",
    "plt.show()\n"
   ]
  },
  {
   "cell_type": "code",
   "execution_count": 424,
   "id": "9906f3a0-40ec-4d34-84b1-f57f3f1c312b",
   "metadata": {},
   "outputs": [
    {
     "data": {
      "text/plain": [
       "[]"
      ]
     },
     "execution_count": 424,
     "metadata": {},
     "output_type": "execute_result"
    }
   ],
   "source": [
    "search_term = 'NUSA'\n",
    "found_strings = list(filter(lambda x: search_term in x, data_geologis))\n",
    "found_strings\n"
   ]
  },
  {
   "cell_type": "code",
   "execution_count": null,
   "id": "a72cd469-41c2-40e9-90d0-59f96fc21cd9",
   "metadata": {},
   "outputs": [],
   "source": []
  }
 ],
 "metadata": {
  "kernelspec": {
   "display_name": "Python 3 (ipykernel)",
   "language": "python",
   "name": "python3"
  },
  "language_info": {
   "codemirror_mode": {
    "name": "ipython",
    "version": 3
   },
   "file_extension": ".py",
   "mimetype": "text/x-python",
   "name": "python",
   "nbconvert_exporter": "python",
   "pygments_lexer": "ipython3",
   "version": "3.11.5"
  }
 },
 "nbformat": 4,
 "nbformat_minor": 5
}
